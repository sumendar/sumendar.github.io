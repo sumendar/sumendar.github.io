{
 "cells": [
  {
   "cell_type": "markdown",
   "id": "07392192",
   "metadata": {},
   "source": [
    "**Default Notebook Extensions for Better Presentations:**  \n",
    "![Imgur](https://i.imgur.com/qJ0xmMJ.jpg)  "
   ]
  },
  {
   "cell_type": "markdown",
   "id": "55efe3f7",
   "metadata": {},
   "source": [
    "## Present working directory path\n",
    "tags:\n",
    "#python\n",
    "\t-hello\n",
    "\t- nest\n",
    "#hello"
   ]
  },
  {
   "cell_type": "code",
   "execution_count": 2,
   "id": "1e3e8dbf",
   "metadata": {},
   "outputs": [
    {
     "data": {
      "text/plain": [
       "'c:\\\\Users\\\\Administrator\\\\Documents\\\\GitHub\\\\DSAIML\\\\00-Python\\\\00-notebooks'"
      ]
     },
     "execution_count": 2,
     "metadata": {},
     "output_type": "execute_result"
    }
   ],
   "source": [
    "pwd"
   ]
  },
  {
   "cell_type": "markdown",
   "id": "dc6a56dd",
   "metadata": {},
   "source": [
    "    'C:\\\\Users\\\\Administrator\\\\Documents\\\\GitHub\\\\DSAIML\\\\00-Python\\\\00-notebooks'\n",
    "tags:hello"
   ]
  },
  {
   "cell_type": "code",
   "execution_count": 1,
   "id": "621ed6d5",
   "metadata": {},
   "outputs": [
    {
     "data": {
      "text/html": [
       "<div>\n",
       "<style scoped>\n",
       "    .dataframe tbody tr th:only-of-type {\n",
       "        vertical-align: middle;\n",
       "    }\n",
       "\n",
       "    .dataframe tbody tr th {\n",
       "        vertical-align: top;\n",
       "    }\n",
       "\n",
       "    .dataframe thead th {\n",
       "        text-align: right;\n",
       "    }\n",
       "</style>\n",
       "<table border=\"1\" class=\"dataframe\">\n",
       "  <thead>\n",
       "    <tr style=\"text-align: right;\">\n",
       "      <th></th>\n",
       "      <th>alcohol</th>\n",
       "      <th>malic_acid</th>\n",
       "      <th>ash</th>\n",
       "      <th>alcalinity_of_ash</th>\n",
       "      <th>magnesium</th>\n",
       "      <th>total_phenols</th>\n",
       "      <th>flavanoids</th>\n",
       "      <th>nonflavanoid_phenols</th>\n",
       "      <th>proanthocyanins</th>\n",
       "      <th>color_intensity</th>\n",
       "      <th>hue</th>\n",
       "      <th>od280/od315_of_diluted_wines</th>\n",
       "      <th>proline</th>\n",
       "    </tr>\n",
       "  </thead>\n",
       "  <tbody>\n",
       "    <tr>\n",
       "      <th>0</th>\n",
       "      <td>14.23</td>\n",
       "      <td>1.71</td>\n",
       "      <td>2.43</td>\n",
       "      <td>15.6</td>\n",
       "      <td>127.0</td>\n",
       "      <td>2.80</td>\n",
       "      <td>3.06</td>\n",
       "      <td>0.28</td>\n",
       "      <td>2.29</td>\n",
       "      <td>5.64</td>\n",
       "      <td>1.04</td>\n",
       "      <td>3.92</td>\n",
       "      <td>1065.0</td>\n",
       "    </tr>\n",
       "    <tr>\n",
       "      <th>1</th>\n",
       "      <td>13.20</td>\n",
       "      <td>1.78</td>\n",
       "      <td>2.14</td>\n",
       "      <td>11.2</td>\n",
       "      <td>100.0</td>\n",
       "      <td>2.65</td>\n",
       "      <td>2.76</td>\n",
       "      <td>0.26</td>\n",
       "      <td>1.28</td>\n",
       "      <td>4.38</td>\n",
       "      <td>1.05</td>\n",
       "      <td>3.40</td>\n",
       "      <td>1050.0</td>\n",
       "    </tr>\n",
       "    <tr>\n",
       "      <th>2</th>\n",
       "      <td>13.16</td>\n",
       "      <td>2.36</td>\n",
       "      <td>2.67</td>\n",
       "      <td>18.6</td>\n",
       "      <td>101.0</td>\n",
       "      <td>2.80</td>\n",
       "      <td>3.24</td>\n",
       "      <td>0.30</td>\n",
       "      <td>2.81</td>\n",
       "      <td>5.68</td>\n",
       "      <td>1.03</td>\n",
       "      <td>3.17</td>\n",
       "      <td>1185.0</td>\n",
       "    </tr>\n",
       "    <tr>\n",
       "      <th>3</th>\n",
       "      <td>14.37</td>\n",
       "      <td>1.95</td>\n",
       "      <td>2.50</td>\n",
       "      <td>16.8</td>\n",
       "      <td>113.0</td>\n",
       "      <td>3.85</td>\n",
       "      <td>3.49</td>\n",
       "      <td>0.24</td>\n",
       "      <td>2.18</td>\n",
       "      <td>7.80</td>\n",
       "      <td>0.86</td>\n",
       "      <td>3.45</td>\n",
       "      <td>1480.0</td>\n",
       "    </tr>\n",
       "    <tr>\n",
       "      <th>4</th>\n",
       "      <td>13.24</td>\n",
       "      <td>2.59</td>\n",
       "      <td>2.87</td>\n",
       "      <td>21.0</td>\n",
       "      <td>118.0</td>\n",
       "      <td>2.80</td>\n",
       "      <td>2.69</td>\n",
       "      <td>0.39</td>\n",
       "      <td>1.82</td>\n",
       "      <td>4.32</td>\n",
       "      <td>1.04</td>\n",
       "      <td>2.93</td>\n",
       "      <td>735.0</td>\n",
       "    </tr>\n",
       "  </tbody>\n",
       "</table>\n",
       "</div>"
      ],
      "text/plain": [
       "   alcohol  malic_acid   ash  alcalinity_of_ash  magnesium  total_phenols  \\\n",
       "0    14.23        1.71  2.43               15.6      127.0           2.80   \n",
       "1    13.20        1.78  2.14               11.2      100.0           2.65   \n",
       "2    13.16        2.36  2.67               18.6      101.0           2.80   \n",
       "3    14.37        1.95  2.50               16.8      113.0           3.85   \n",
       "4    13.24        2.59  2.87               21.0      118.0           2.80   \n",
       "\n",
       "   flavanoids  nonflavanoid_phenols  proanthocyanins  color_intensity   hue  \\\n",
       "0        3.06                  0.28             2.29             5.64  1.04   \n",
       "1        2.76                  0.26             1.28             4.38  1.05   \n",
       "2        3.24                  0.30             2.81             5.68  1.03   \n",
       "3        3.49                  0.24             2.18             7.80  0.86   \n",
       "4        2.69                  0.39             1.82             4.32  1.04   \n",
       "\n",
       "   od280/od315_of_diluted_wines  proline  \n",
       "0                          3.92   1065.0  \n",
       "1                          3.40   1050.0  \n",
       "2                          3.17   1185.0  \n",
       "3                          3.45   1480.0  \n",
       "4                          2.93    735.0  "
      ]
     },
     "execution_count": 1,
     "metadata": {},
     "output_type": "execute_result"
    }
   ],
   "source": [
    "from sklearn import datasets\n",
    "import pandas as pd\n",
    "wine_data = pd.DataFrame(datasets.load_wine().data)\n",
    "wine_data.columns = datasets.load_wine().feature_names\n",
    "wine_data.head(5)"
   ]
  },
  {
   "cell_type": "markdown",
   "id": "4d38f364",
   "metadata": {},
   "source": [
    "## Markdown syntax\n",
    "\n",
    "**markdown syntax:**  \n",
    "https://www.markdownguide.org/basic-syntax/  \n",
    "https://ashki23.github.io/markdown-latex.html  \n",
    "\n",
    "## Accessing/loading a files \n",
    "\n",
    "**If File is available in the same current working directory folder**"
   ]
  },
  {
   "cell_type": "code",
   "execution_count": 3,
   "id": "d9c72638",
   "metadata": {},
   "outputs": [],
   "source": [
    "import pandas as pd\n",
    "\n",
    "df1 = pd.read_csv(\n",
    "    'hcpuniverse.csv', sep=\";\"\n",
    ")  #goback to the previous parent directory files other than present working directory"
   ]
  },
  {
   "cell_type": "code",
   "execution_count": 4,
   "id": "7314122b",
   "metadata": {},
   "outputs": [
    {
     "data": {
      "text/plain": [
       "(3681, 6)"
      ]
     },
     "execution_count": 4,
     "metadata": {},
     "output_type": "execute_result"
    }
   ],
   "source": [
    "df1.shape"
   ]
  },
  {
   "cell_type": "markdown",
   "id": "ad7a140c",
   "metadata": {},
   "source": [
    "    (3681, 6)\n",
    "\n",
    "\n",
    "\n",
    "**If the File is available in the folder curresponding the same working directory location**"
   ]
  },
  {
   "cell_type": "code",
   "execution_count": 5,
   "id": "d7740f66",
   "metadata": {},
   "outputs": [],
   "source": [
    "import pandas as pd\n",
    "\n",
    "df2 = pd.read_csv(\n",
    "    '01A-data/hcpuniverse.csv', sep=\";\"\n",
    ")  #goback to the previous parent directory files other than present working directory"
   ]
  },
  {
   "cell_type": "code",
   "execution_count": 6,
   "id": "b6fbb742",
   "metadata": {},
   "outputs": [
    {
     "data": {
      "text/plain": [
       "(3681, 6)"
      ]
     },
     "execution_count": 6,
     "metadata": {},
     "output_type": "execute_result"
    }
   ],
   "source": [
    "df2.shape"
   ]
  },
  {
   "cell_type": "markdown",
   "id": "8d5764fa",
   "metadata": {},
   "source": [
    "    (3681, 6)\n",
    "\n",
    "\n",
    "\n",
    "**OR**"
   ]
  },
  {
   "cell_type": "code",
   "execution_count": null,
   "id": "19110d7b",
   "metadata": {
    "run_control": {
     "marked": false
    }
   },
   "outputs": [],
   "source": [
    "import pandas as pd\n",
    "\n",
    "df3 = pd.read_csv(\n",
    "    './01A-data/hcpuniverse.csv', sep=\";\"\n",
    ")  #goback to the previous parent directory files other than present working directory"
   ]
  },
  {
   "cell_type": "code",
   "execution_count": null,
   "id": "a2dad6f5",
   "metadata": {},
   "outputs": [],
   "source": [
    "df3.shape"
   ]
  },
  {
   "cell_type": "markdown",
   "id": "bbd2a7df",
   "metadata": {},
   "source": [
    "    (3681, 6)\n",
    "\n",
    "\n",
    "\n",
    "### Accessing/loading a file which present in other than current/present working directory exact parent of current\n",
    "\n",
    "```python\n",
    "import pandas as pd\n",
    "\n",
    "df4 = pd.read_csv(\n",
    "    '../01-data/hcpuniverse.csv', sep=\";\"\n",
    ")  #goback to the previous parent directory files other than present working directory\n",
    "```"
   ]
  },
  {
   "cell_type": "code",
   "execution_count": null,
   "id": "674f8676",
   "metadata": {},
   "outputs": [],
   "source": [
    "df4.shape"
   ]
  },
  {
   "cell_type": "markdown",
   "id": "7d55ce76",
   "metadata": {},
   "source": [
    "    (3681, 6)"
   ]
  },
  {
   "cell_type": "code",
   "execution_count": null,
   "id": "e95a7f34",
   "metadata": {},
   "outputs": [],
   "source": [
    "df4.head()"
   ]
  },
  {
   "cell_type": "markdown",
   "id": "5ff6f244",
   "metadata": {},
   "source": [
    "<div>\n",
    "<style scoped>\n",
    "    .dataframe tbody tr th:only-of-type {\n",
    "        vertical-align: middle;\n",
    "    }\n",
    "\n",
    "    .dataframe tbody tr th {\n",
    "        vertical-align: top;\n",
    "    }\n",
    "\n",
    "    .dataframe thead th {\n",
    "        text-align: right;\n",
    "    }\n",
    "</style>\n",
    "<table border=\"1\" class=\"dataframe\">\n",
    "  <thead>\n",
    "    <tr style=\"text-align: right;\">\n",
    "      <th></th>\n",
    "      <th>c_First_Name</th>\n",
    "      <th>h_First_Name</th>\n",
    "      <th>c_Last_Name</th>\n",
    "      <th>h_Last_Name</th>\n",
    "      <th>c_Title</th>\n",
    "      <th>h_Title</th>\n",
    "    </tr>\n",
    "  </thead>\n",
    "  <tbody>\n",
    "    <tr>\n",
    "      <th>0</th>\n",
    "      <td>Brian</td>\n",
    "      <td>BRIAN</td>\n",
    "      <td>Kelly</td>\n",
    "      <td>KELLY</td>\n",
    "      <td>Medicine</td>\n",
    "      <td>PHYSICAL MEDICINE AND REHABILITATION</td>\n",
    "    </tr>\n",
    "    <tr>\n",
    "      <th>1</th>\n",
    "      <td>Rahul</td>\n",
    "      <td>RAHUL</td>\n",
    "      <td>Sharma</td>\n",
    "      <td>SHARMA</td>\n",
    "      <td>Laboratory Director</td>\n",
    "      <td>PHYSICAL MEDICINE AND REHABILITATION</td>\n",
    "    </tr>\n",
    "    <tr>\n",
    "      <th>2</th>\n",
    "      <td>Kashif</td>\n",
    "      <td>KASHIF</td>\n",
    "      <td>Khan</td>\n",
    "      <td>KHAN</td>\n",
    "      <td>Anesthesia</td>\n",
    "      <td>GERIATRIC MEDICINE</td>\n",
    "    </tr>\n",
    "    <tr>\n",
    "      <th>3</th>\n",
    "      <td>Mark</td>\n",
    "      <td>MARK</td>\n",
    "      <td>Smith</td>\n",
    "      <td>SMITH</td>\n",
    "      <td>Anesthesia</td>\n",
    "      <td>INTERNAL MEDICINE</td>\n",
    "    </tr>\n",
    "    <tr>\n",
    "      <th>4</th>\n",
    "      <td>Paul</td>\n",
    "      <td>PAUL</td>\n",
    "      <td>Harris</td>\n",
    "      <td>HARRIS</td>\n",
    "      <td>Apprenticeship in Joinery</td>\n",
    "      <td>FAMILY PRACTICE</td>\n",
    "    </tr>\n",
    "  </tbody>\n",
    "</table>\n",
    "</div>"
   ]
  },
  {
   "cell_type": "markdown",
   "id": "89694669",
   "metadata": {},
   "source": [
    "### Accessing/loading a file which present in other than current/present working directory grand parent of current path"
   ]
  },
  {
   "cell_type": "code",
   "execution_count": null,
   "id": "6b373fc4",
   "metadata": {},
   "outputs": [],
   "source": [
    "import pandas as pd\n",
    "df5 = pd.read_csv('../../00-Python/hcpuniverse.csv',sep=\";\") #goback to the previous/parent directory files"
   ]
  },
  {
   "cell_type": "code",
   "execution_count": null,
   "id": "3c58fbf2",
   "metadata": {},
   "outputs": [],
   "source": [
    "df5.head()"
   ]
  },
  {
   "cell_type": "markdown",
   "id": "d0fc52ac",
   "metadata": {},
   "source": [
    "<div>\n",
    "<style scoped>\n",
    "    .dataframe tbody tr th:only-of-type {\n",
    "        vertical-align: middle;\n",
    "    }\n",
    "\n",
    "    .dataframe tbody tr th {\n",
    "        vertical-align: top;\n",
    "    }\n",
    "\n",
    "    .dataframe thead th {\n",
    "        text-align: right;\n",
    "    }\n",
    "</style>\n",
    "<table border=\"1\" class=\"dataframe\">\n",
    "  <thead>\n",
    "    <tr style=\"text-align: right;\">\n",
    "      <th></th>\n",
    "      <th>c_First_Name</th>\n",
    "      <th>h_First_Name</th>\n",
    "      <th>c_Last_Name</th>\n",
    "      <th>h_Last_Name</th>\n",
    "      <th>c_Title</th>\n",
    "      <th>h_Title</th>\n",
    "    </tr>\n",
    "  </thead>\n",
    "  <tbody>\n",
    "    <tr>\n",
    "      <th>0</th>\n",
    "      <td>Brian</td>\n",
    "      <td>BRIAN</td>\n",
    "      <td>Kelly</td>\n",
    "      <td>KELLY</td>\n",
    "      <td>Medicine</td>\n",
    "      <td>PHYSICAL MEDICINE AND REHABILITATION</td>\n",
    "    </tr>\n",
    "    <tr>\n",
    "      <th>1</th>\n",
    "      <td>Rahul</td>\n",
    "      <td>RAHUL</td>\n",
    "      <td>Sharma</td>\n",
    "      <td>SHARMA</td>\n",
    "      <td>Laboratory Director</td>\n",
    "      <td>PHYSICAL MEDICINE AND REHABILITATION</td>\n",
    "    </tr>\n",
    "    <tr>\n",
    "      <th>2</th>\n",
    "      <td>Kashif</td>\n",
    "      <td>KASHIF</td>\n",
    "      <td>Khan</td>\n",
    "      <td>KHAN</td>\n",
    "      <td>Anesthesia</td>\n",
    "      <td>GERIATRIC MEDICINE</td>\n",
    "    </tr>\n",
    "    <tr>\n",
    "      <th>3</th>\n",
    "      <td>Mark</td>\n",
    "      <td>MARK</td>\n",
    "      <td>Smith</td>\n",
    "      <td>SMITH</td>\n",
    "      <td>Anesthesia</td>\n",
    "      <td>INTERNAL MEDICINE</td>\n",
    "    </tr>\n",
    "    <tr>\n",
    "      <th>4</th>\n",
    "      <td>Paul</td>\n",
    "      <td>PAUL</td>\n",
    "      <td>Harris</td>\n",
    "      <td>HARRIS</td>\n",
    "      <td>Apprenticeship in Joinery</td>\n",
    "      <td>FAMILY PRACTICE</td>\n",
    "    </tr>\n",
    "  </tbody>\n",
    "</table>\n",
    "</div>"
   ]
  },
  {
   "cell_type": "code",
   "execution_count": null,
   "id": "71516070",
   "metadata": {},
   "outputs": [],
   "source": [
    "import pandas as pd\n",
    "df6 = pd.read_csv('../../../DSAIML/hcpuniverse.csv',sep=\";\") #goback to the previous/parent directory files"
   ]
  },
  {
   "cell_type": "code",
   "execution_count": null,
   "id": "86c71b03",
   "metadata": {},
   "outputs": [],
   "source": [
    "df6.head()"
   ]
  },
  {
   "cell_type": "markdown",
   "id": "33dc73a2",
   "metadata": {},
   "source": [
    "<div>\n",
    "<style scoped>\n",
    "    .dataframe tbody tr th:only-of-type {\n",
    "        vertical-align: middle;\n",
    "    }\n",
    "\n",
    "    .dataframe tbody tr th {\n",
    "        vertical-align: top;\n",
    "    }\n",
    "\n",
    "    .dataframe thead th {\n",
    "        text-align: right;\n",
    "    }\n",
    "</style>\n",
    "<table border=\"1\" class=\"dataframe\">\n",
    "  <thead>\n",
    "    <tr style=\"text-align: right;\">\n",
    "      <th></th>\n",
    "      <th>c_First_Name</th>\n",
    "      <th>h_First_Name</th>\n",
    "      <th>c_Last_Name</th>\n",
    "      <th>h_Last_Name</th>\n",
    "      <th>c_Title</th>\n",
    "      <th>h_Title</th>\n",
    "    </tr>\n",
    "  </thead>\n",
    "  <tbody>\n",
    "    <tr>\n",
    "      <th>0</th>\n",
    "      <td>Brian</td>\n",
    "      <td>BRIAN</td>\n",
    "      <td>Kelly</td>\n",
    "      <td>KELLY</td>\n",
    "      <td>Medicine</td>\n",
    "      <td>PHYSICAL MEDICINE AND REHABILITATION</td>\n",
    "    </tr>\n",
    "    <tr>\n",
    "      <th>1</th>\n",
    "      <td>Rahul</td>\n",
    "      <td>RAHUL</td>\n",
    "      <td>Sharma</td>\n",
    "      <td>SHARMA</td>\n",
    "      <td>Laboratory Director</td>\n",
    "      <td>PHYSICAL MEDICINE AND REHABILITATION</td>\n",
    "    </tr>\n",
    "    <tr>\n",
    "      <th>2</th>\n",
    "      <td>Kashif</td>\n",
    "      <td>KASHIF</td>\n",
    "      <td>Khan</td>\n",
    "      <td>KHAN</td>\n",
    "      <td>Anesthesia</td>\n",
    "      <td>GERIATRIC MEDICINE</td>\n",
    "    </tr>\n",
    "    <tr>\n",
    "      <th>3</th>\n",
    "      <td>Mark</td>\n",
    "      <td>MARK</td>\n",
    "      <td>Smith</td>\n",
    "      <td>SMITH</td>\n",
    "      <td>Anesthesia</td>\n",
    "      <td>INTERNAL MEDICINE</td>\n",
    "    </tr>\n",
    "    <tr>\n",
    "      <th>4</th>\n",
    "      <td>Paul</td>\n",
    "      <td>PAUL</td>\n",
    "      <td>Harris</td>\n",
    "      <td>HARRIS</td>\n",
    "      <td>Apprenticeship in Joinery</td>\n",
    "      <td>FAMILY PRACTICE</td>\n",
    "    </tr>\n",
    "  </tbody>\n",
    "</table>\n",
    "</div>"
   ]
  },
  {
   "cell_type": "markdown",
   "id": "a155971e",
   "metadata": {},
   "source": [
    "### Accessing/loading a file which present in other than current/present working directory other than grand parent of current path, super path let's say computer account name path"
   ]
  },
  {
   "cell_type": "code",
   "execution_count": null,
   "id": "326178ea",
   "metadata": {},
   "outputs": [],
   "source": [
    "import pandas as pd\n",
    "\n",
    "df7 = pd.read_csv(\n",
    "    '~/hcpuniverse.csv', sep=\";\"\n",
    ")  #goback to the computer's account named directory(if the file located there) \"C:\\Users\\Administrator\" is nothing but ~"
   ]
  },
  {
   "cell_type": "code",
   "execution_count": null,
   "id": "132fce2b",
   "metadata": {},
   "outputs": [],
   "source": [
    "df7.head()"
   ]
  },
  {
   "cell_type": "markdown",
   "id": "503e6dc0",
   "metadata": {},
   "source": [
    "<div>\n",
    "<style scoped>\n",
    "    .dataframe tbody tr th:only-of-type {\n",
    "        vertical-align: middle;\n",
    "    }\n",
    "\n",
    "    .dataframe tbody tr th {\n",
    "        vertical-align: top;\n",
    "    }\n",
    "\n",
    "    .dataframe thead th {\n",
    "        text-align: right;\n",
    "    }\n",
    "</style>\n",
    "<table border=\"1\" class=\"dataframe\">\n",
    "  <thead>\n",
    "    <tr style=\"text-align: right;\">\n",
    "      <th></th>\n",
    "      <th>c_First_Name</th>\n",
    "      <th>h_First_Name</th>\n",
    "      <th>c_Last_Name</th>\n",
    "      <th>h_Last_Name</th>\n",
    "      <th>c_Title</th>\n",
    "      <th>h_Title</th>\n",
    "    </tr>\n",
    "  </thead>\n",
    "  <tbody>\n",
    "    <tr>\n",
    "      <th>0</th>\n",
    "      <td>Brian</td>\n",
    "      <td>BRIAN</td>\n",
    "      <td>Kelly</td>\n",
    "      <td>KELLY</td>\n",
    "      <td>Medicine</td>\n",
    "      <td>PHYSICAL MEDICINE AND REHABILITATION</td>\n",
    "    </tr>\n",
    "    <tr>\n",
    "      <th>1</th>\n",
    "      <td>Rahul</td>\n",
    "      <td>RAHUL</td>\n",
    "      <td>Sharma</td>\n",
    "      <td>SHARMA</td>\n",
    "      <td>Laboratory Director</td>\n",
    "      <td>PHYSICAL MEDICINE AND REHABILITATION</td>\n",
    "    </tr>\n",
    "    <tr>\n",
    "      <th>2</th>\n",
    "      <td>Kashif</td>\n",
    "      <td>KASHIF</td>\n",
    "      <td>Khan</td>\n",
    "      <td>KHAN</td>\n",
    "      <td>Anesthesia</td>\n",
    "      <td>GERIATRIC MEDICINE</td>\n",
    "    </tr>\n",
    "    <tr>\n",
    "      <th>3</th>\n",
    "      <td>Mark</td>\n",
    "      <td>MARK</td>\n",
    "      <td>Smith</td>\n",
    "      <td>SMITH</td>\n",
    "      <td>Anesthesia</td>\n",
    "      <td>INTERNAL MEDICINE</td>\n",
    "    </tr>\n",
    "    <tr>\n",
    "      <th>4</th>\n",
    "      <td>Paul</td>\n",
    "      <td>PAUL</td>\n",
    "      <td>Harris</td>\n",
    "      <td>HARRIS</td>\n",
    "      <td>Apprenticeship in Joinery</td>\n",
    "      <td>FAMILY PRACTICE</td>\n",
    "    </tr>\n",
    "  </tbody>\n",
    "</table>\n",
    "</div>"
   ]
  },
  {
   "cell_type": "markdown",
   "id": "62406440",
   "metadata": {},
   "source": [
    "## Tables Generation\n",
    "\n",
    "Tables Generator: https://www.tablesgenerator.com/markdown_tables\n",
    "\n",
    "## LaTeX/Mathematics codes for statistical symbols\n",
    "\n",
    "**LaTeX/Mathematics:**   \n",
    "https://en.wikibooks.org/wiki/LaTeX/Mathematics  \n",
    "https://towardsdatascience.com/write-markdown-latex-in-the-jupyter-notebook-10985edb91fd  \n",
    "https://personal.math.ubc.ca/~pwalls/math-python/jupyter/latex/  \n",
    "https://www.overleaf.com/learn  \n",
    "\n",
    "$\\Phi$\n",
    "\n",
    "$e^{i \\pi} + 1 = 0$\n",
    "\n",
    "$\\forall x$\n",
    "\n",
    "$$\n",
    "\\frac{arg 1}{arg 2} \\\\\n",
    "x^2\\\\\n",
    "e^{i\\pi}\\\\\n",
    "A_i\\\\\n",
    "B_{ij}\\\\\n",
    "\\sqrt[n]{arg}\t\n",
    "$$\n",
    "\n",
    "Given : $\\pi = 3.14$ , $\\alpha = \\frac{3\\pi}{4}\\, rad$\n",
    "$$\n",
    "\\omega = 2\\pi f \\\\\n",
    "f = \\frac{c}{\\lambda}\\\\\n",
    "\\lambda_0=\\theta^2+\\delta\\\\\n",
    "\\Delta\\lambda = \\frac{1}{\\lambda^2}\n",
    "$$\n",
    "\n",
    "$\n",
    "\\delta\n",
    "$\n",
    "$\n",
    "\\Delta\n",
    "$\n",
    "\n",
    "$k_{n+1} = n^2 + k_n^2 - k_{n-1}$\n",
    "\n",
    "$\\frac{n!}{k!(n-k)!} = \\binom{n}{k}$\n",
    "\n",
    "$\\begin{equation}\n",
    "\\frac{\n",
    "    \\begin{array}[b]{r}\n",
    "      \\left( x_1 x_2 \\right)\\\\\n",
    "      \\times \\left( x'_1 x'_2 \\right)\n",
    "    \\end{array}\n",
    "  }{\n",
    "    \\left( y_1y_2y_3y_4 \\right)\n",
    "  }\n",
    "\\end{equation}$\n",
    "\n",
    "$\n",
    "\\int\\limits_a^b\n",
    "$\n",
    "\n",
    "$\n",
    "50 \\textrm{ apples} \\times 100\n",
    " \\textbf{ apples} = \\textit{lots of apples}^2\n",
    "$\n",
    "\n",
    "$\n",
    "\\begin{equation}\n",
    "  x = a_0 + \\cfrac{1}{a_1 \n",
    "          + \\cfrac{1}{a_2 \n",
    "          + \\cfrac{1}{a_3 + \\cfrac{1}{a_4} } } }\n",
    "\\end{equation}\n",
    "$\n",
    "\n",
    "$\n",
    "    \\binom{n}{k} = \\frac{n!}{k!(n-k)!}\n",
    "$\n",
    "\n",
    "$$\n",
    "\\mathbf{J}\n",
    "=\n",
    "\\frac{d \\mathbf{f}}{d \\mathbf{x}}\n",
    "=\n",
    "\\left[ \\frac{\\partial \\mathbf{f}}{\\partial x_1}\n",
    "\\cdots \\frac{\\partial \\mathbf{f}}{\\partial x_n} \\right]\n",
    "=\n",
    "\\begin{bmatrix}\n",
    "\\frac{\\partial f_1}{\\partial x_1} & \\cdots &\n",
    "\\frac{\\partial f_1}{\\partial x_n} \\\\\n",
    "\\vdots & \\ddots & \\vdots \\\\\n",
    "\\frac{\\partial f_m}{\\partial x_1} & \\cdots &\n",
    "\\frac{\\partial f_m}{\\partial x_n}\n",
    "\\end{bmatrix}\n",
    "$$"
   ]
  },
  {
   "cell_type": "markdown",
   "id": "2e470337",
   "metadata": {},
   "source": [
    "**Follow these concepts:**  \n",
    "https://math.meta.stackexchange.com/questions/5020/mathjax-basic-tutorial-and-quick-reference#  \n",
    "https://www.mathelounge.de/509545/mathjax-latex-basic-tutorial-und-referenz-deutsch  \n",
    "\n",
    "Ex:  \n",
    "$\\Biggl(\\biggl(\\Bigl(\\bigl((x)\\bigr)\\Bigr)\\biggr)\\Biggr)$\n",
    "$$\n",
    "\\begin{matrix}\n",
    "1 & 2 & 3 \\\\\n",
    "4 & 5 & 6 \\\\\n",
    "7 & 8 & 9\n",
    "\\end{matrix}\n",
    "$$\n",
    "$\n",
    "\\begin{equation}\n",
    "  x = a_0 + \\cfrac{1}{a_1 \n",
    "          + \\cfrac{1}{a_2 \n",
    "          + \\cfrac{1}{a_3 + \\cfrac{1}{a_4} } } }\n",
    "\\end{equation}\n",
    "$"
   ]
  },
  {
   "cell_type": "markdown",
   "id": "fc264a4b",
   "metadata": {},
   "source": [
    "## Images\n",
    "\n",
    "<table>\n",
    "    <tr>\n",
    "        <td>\n",
    "            <img src=\"https://saturn-public-assets.s3.us-east-2.amazonaws.com/example-resources/dask.png\" width=\"300\">\n",
    "        </td>\n",
    "        <td>\n",
    "            <img src=\"https://saturn-public-assets.s3.us-east-2.amazonaws.com/example-resources/rapids.png\" width=\"300\">\n",
    "        </td>\n",
    "        <td>\n",
    "            <img src=\"https://saturn-public-assets.s3.us-east-2.amazonaws.com/example-resources/snowflake.png\" width=\"300\">\n",
    "        </td>\n",
    "    </tr>\n",
    "</table>\n",
    "\n",
    "![Imgur](https://i.imgur.com/1FohGsV.jpg)\n",
    "\n",
    "## Download Notebook as PDF\n",
    "\n",
    "### First Approach  \n",
    "Source: https://mpievolbio-scicomp.pages.gwdg.de/blog/post/2020-12-09_pandoc_vs_nbconvert/   \n",
    "`pandoc --to pdf --from ipynb -o Notebook.pdf Notebook.ipynb`  \n",
    "                                               OR                                                     \n",
    "Download as **PDF via LaTex(.pdf)**    \n",
    "                                               OR                                                     \n",
    "Goto **Chrome three dots** choose **print** option and **Save as PDF**"
   ]
  },
  {
   "cell_type": "markdown",
   "id": "6663bb67",
   "metadata": {},
   "source": [
    "### Second Approach    \n",
    "**Use Another Approach like below:**  \n",
    "https://jupytext.readthedocs.io/en/latest/using-cli.html\n",
    "\n",
    "### Third Approach\n",
    "**Using nbconvert with all necessary installation mentioned below:**   \n",
    "https://nbconvert.readthedocs.io/en/latest/install.html"
   ]
  },
  {
   "cell_type": "code",
   "execution_count": null,
   "id": "b56c1a93",
   "metadata": {},
   "outputs": [],
   "source": [
    "# Sample Code\n",
    "import matplotlib.pyplot as plt\n",
    "import numpy as np\n",
    "\n",
    "xpoints = np.array([1, 8])\n",
    "ypoints = np.array([3, 10])\n",
    "\n",
    "plt.plot(xpoints, ypoints)\n",
    "plt.show()"
   ]
  },
  {
   "cell_type": "code",
   "execution_count": 1,
   "id": "cbf8d90f",
   "metadata": {},
   "outputs": [
    {
     "data": {
      "text/plain": [
       "'C:\\\\Users\\\\Administrator\\\\Documents\\\\GitHub\\\\DSAIML\\\\00-Python\\\\00-notebooks'"
      ]
     },
     "execution_count": 1,
     "metadata": {},
     "output_type": "execute_result"
    }
   ],
   "source": [
    "pwd"
   ]
  },
  {
   "cell_type": "markdown",
   "id": "c2e8a3dd",
   "metadata": {},
   "source": [
    "## Embedding Images From Local Folder\n",
    "![Some](imgsAudVid/Engelbart.jpg)  \n",
    "But in Jupyter, html is much more flexible \n",
    "<img src=imgsAudVid/Engelbart.jpg width=300>\n",
    "\n",
    "\n",
    "Above Code OR Use This Below Code as per Obsidian Point of view  ![[imgsAudVid/Engelbart.jpg]]  \n",
    "\n",
    "## Embedding Audio Files to the MD File As Per Obsidian Point of View  \n",
    "![[imgsAudVid/Excerpt from Mother of All Demos (1968).ogg]]\n",
    "\n",
    "## Embedding Videos from local drive:  \n",
    "<video width=\"320\" height=\"240\" src=\"imgsAudVid/EmbedVideo.mp4\" controls=\"controls\" style=\"max-width: 730px;\">\n",
    "</video>\n",
    "\n",
    "## Embedding Videos from youtube/cloud\n",
    "While it's not possible to embed a video in Markdown you can \"fake it\" by including a valid linked image in your markup file, using this format: source: https://stackoverflow.com/questions/11804820/how-can-i-embed-a-youtube-video-on-github-wiki-pages\n",
    "\n",
    "[![Everything Is AWESOME](http://i.imgur.com/Ot5DWAW.png)](https://youtu.be/StTqXEQ2l-Y?t=35s \"Everything Is AWESOME\")\n",
    "\n",
    "\n",
    "## Embedding  Tweets\n",
    "<iframe\n",
    "\tborder=0\n",
    "\tframeborder=0\n",
    "\theight=250\n",
    "\twidth=550  \n",
    "\tsrc=\"https://twitframe.com/show?url=https%3A%2F%2Ftwitter.com%2Fjack%2Fstatus%2F20\">\n",
    "</iframe>\n",
    "\n",
    "\n",
    "\n"
   ]
  },
  {
   "cell_type": "code",
   "execution_count": 2,
   "id": "e6b43266",
   "metadata": {},
   "outputs": [
    {
     "data": {
      "image/jpeg": "[encoded data removed]",
      "text/html": [
       "\n",
       "        <iframe\n",
       "            width=\"800\"\n",
       "            height=\"300\"\n",
       "            src=\"https://www.youtube.com/embed/WSbgixdC9g8\"\n",
       "            frameborder=\"0\"\n",
       "            allowfullscreen\n",
       "            \n",
       "        ></iframe>\n",
       "        "
      ],
      "text/plain": [
       "<IPython.lib.display.YouTubeVideo at 0x1eff3255c40>"
      ]
     },
     "execution_count": 2,
     "metadata": {},
     "output_type": "execute_result"
    }
   ],
   "source": [
    "from IPython.display import YouTubeVideo\n",
    "\n",
    "YouTubeVideo('WSbgixdC9g8', width=800, height=300)"
   ]
  },
  {
   "cell_type": "code",
   "execution_count": 1,
   "id": "1a4024cb",
   "metadata": {},
   "outputs": [
    {
     "name": "stderr",
     "output_type": "stream",
     "text": [
      "C:\\Users\\Administrator\\AppData\\Roaming\\Python\\Python38\\site-packages\\IPython\\core\\display.py:419: UserWarning: Consider using IPython.display.IFrame instead\n",
      "  warnings.warn(\"Consider using IPython.display.IFrame instead\")\n"
     ]
    },
    {
     "data": {
      "text/html": [
       "<iframe width=\"560\" height=\"315\" src=\"https://www.youtube.com/embed/videoseries?controls=0&amp;list=PLbk_EDDIZpfYHlJ_mnyWFgt1CeTPZXXTD\" title=\"YouTube video player\" frameborder=\"0\" allow=\"accelerometer; autoplay; clipboard-write; encrypted-media; gyroscope; picture-in-picture\" allowfullscreen></iframe>"
      ],
      "text/plain": [
       "<IPython.core.display.HTML object>"
      ]
     },
     "execution_count": 1,
     "metadata": {},
     "output_type": "execute_result"
    }
   ],
   "source": [
    "#Embed Youtube playlist/vedio from youtube:\n",
    "# Source: https://www.christopherlovell.co.uk/blog/2016/05/10/jupyter-video.html\n",
    "from IPython.display import HTML\n",
    "\n",
    "HTML(\n",
    "    '<iframe width=\"560\" height=\"315\" src=\"https://www.youtube.com/embed/videoseries?controls=0&amp;list=PLbk_EDDIZpfYHlJ_mnyWFgt1CeTPZXXTD\" title=\"YouTube video player\" frameborder=\"0\" allow=\"accelerometer; autoplay; clipboard-write; encrypted-media; gyroscope; picture-in-picture\" allowfullscreen></iframe>'\n",
    ")"
   ]
  },
  {
   "cell_type": "code",
   "execution_count": 3,
   "id": "eebcea12",
   "metadata": {},
   "outputs": [
    {
     "data": {
      "text/html": [
       "\n",
       "        <iframe\n",
       "            width=\"600\"\n",
       "            height=\"300\"\n",
       "            src=\"https://ignite.byu.edu/che263/lectureNotes/lecture_06_review.pdf\"\n",
       "            frameborder=\"0\"\n",
       "            allowfullscreen\n",
       "            \n",
       "        ></iframe>\n",
       "        "
      ],
      "text/plain": [
       "<IPython.lib.display.IFrame at 0x1eff3255c10>"
      ]
     },
     "execution_count": 3,
     "metadata": {},
     "output_type": "execute_result"
    }
   ],
   "source": [
    "## Embedding  PDFs/Docs\n",
    "from IPython.display import IFrame\n",
    "IFrame(\"https://ignite.byu.edu/che263/lectureNotes/lecture_06_review.pdf\", width=600, height=300)"
   ]
  },
  {
   "cell_type": "markdown",
   "id": "ed1f607a",
   "metadata": {},
   "source": [
    "## SQL Code Added to Notebook to Check MD"
   ]
  },
  {
   "cell_type": "code",
   "execution_count": null,
   "id": "e0a3e6d2",
   "metadata": {},
   "outputs": [],
   "source": [
    "%%sql\n",
    "SELECT c.Email AS Email, \n",
    "COUNT(t.Email) AS Count_Of_Duplicates,\n",
    "t.Date_In_File AS Extracted_Date_From_Live,\n",
    "c.Date_In_File AS Extracted_Date_From_Cons,\n",
    "t.Extracted_By AS Extracted_By_From_Live ,\n",
    "c.Extracted_By AS Extracted_By_From_Cons,\n",
    "t.Source_File AS Source_From_Live,\n",
    "c.Source_File AS Source_From_Cons\n",
    "FROM `_Cons_Data_Total1` c, `_today_data1` t \n",
    "WHERE c.Email = t.Email \n",
    "GROUP BY Email \n",
    "HAVING COUNT(t.Email) >= 1;\t"
   ]
  },
  {
   "cell_type": "code",
   "execution_count": 3,
   "id": "5409357e",
   "metadata": {},
   "outputs": [
    {
     "data": {
      "image/png": "[encoded data removed]",
      "text/plain": [
       "plot without title"
      ]
     },
     "metadata": {},
     "output_type": "display_data"
    }
   ],
   "source": [
    "# Create a vector of pies\n",
    "x <- c(10,20,30,40)\n",
    "\n",
    "# Display the pie chart and start the first pie at 90 degrees\n",
    "pie(x, init.angle = 90)"
   ]
  },
  {
   "cell_type": "code",
   "execution_count": 3,
   "id": "e1314114",
   "metadata": {},
   "outputs": [
    {
     "name": "stdout",
     "output_type": "stream",
     "text": [
      "hello world\n",
      "hello world1\n"
     ]
    }
   ],
   "source": [
    "print(\"hello world\")\n",
    "print(\"hello world1\")"
   ]
  }
 ],
 "metadata": {
  "hide_input": false,
  "jupytext": {
   "formats": "ipynb,md,py:percent"
  },
  "kernelspec": {
   "display_name": "Python 3",
   "language": "python",
   "name": "python3"
  },
  "language_info": {
   "codemirror_mode": {
    "name": "ipython",
    "version": 3
   },
   "file_extension": ".py",
   "mimetype": "text/x-python",
   "name": "python",
   "nbconvert_exporter": "python",
   "pygments_lexer": "ipython3",
   "version": "3.8.8"
  },
  "toc": {
   "base_numbering": 1,
   "nav_menu": {},
   "number_sections": true,
   "sideBar": true,
   "skip_h1_title": false,
   "title_cell": "Table of Contents",
   "title_sidebar": "Contents",
   "toc_cell": false,
   "toc_position": {},
   "toc_section_display": true,
   "toc_window_display": false
  },
  "varInspector": {
   "cols": {
    "lenName": 16,
    "lenType": 16,
    "lenVar": 40
   },
   "kernels_config": {
    "python": {
     "delete_cmd_postfix": "",
     "delete_cmd_prefix": "del ",
     "library": "var_list.py",
     "varRefreshCmd": "print(var_dic_list())"
    },
    "r": {
     "delete_cmd_postfix": ") ",
     "delete_cmd_prefix": "rm(",
     "library": "var_list.r",
     "varRefreshCmd": "cat(var_dic_list()) "
    }
   },
   "types_to_exclude": [
    "module",
    "function",
    "builtin_function_or_method",
    "instance",
    "_Feature"
   ],
   "window_display": false
  }
 },
 "nbformat": 4,
 "nbformat_minor": 5
}
