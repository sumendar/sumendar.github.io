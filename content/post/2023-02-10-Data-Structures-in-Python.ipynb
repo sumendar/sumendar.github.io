{
 "cells": [
  {
   "cell_type": "raw",
   "id": "ad97ea0f",
   "metadata": {},
   "source": [
    " ---\n",
    "title: Data-Structures-in-Python\n",
    "author: sumendar\n",
    "date: '2023-02-10'\n",
    "slug: Data-Structures-in-Python\n",
    "categories: ['python', 'data structures']\n",
    "tags: ['basics']\n",
    "subtitle: 'with reallife examples'\n",
    "---"
   ]
  },
  {
   "cell_type": "markdown",
   "id": "3c8ab468",
   "metadata": {},
   "source": [
    "In Python, a **data structures** is a way of organizing and storing data that enables efficient access and modification of the data. Here are some of the most commonly used data structures in Python along with real-life examples and their use cases:"
   ]
  },
  {
   "cell_type": "markdown",
   "id": "e2d8022f",
   "metadata": {},
   "source": [
    "# List"
   ]
  },
  {
   "cell_type": "markdown",
   "id": "89ad8c9b",
   "metadata": {},
   "source": [
    "**List:** \n",
    "A list is an ordered, mutable, and heterogeneous collection of elements. Each element in a list can be of any type, including another list. Here's an example of a list that stores the names of different fruits:\n",
    "css"
   ]
  },
  {
   "cell_type": "code",
   "execution_count": 1,
   "id": "163a4274",
   "metadata": {
    "lines_to_next_cell": 0
   },
   "outputs": [
    {
     "name": "stdout",
     "output_type": "stream",
     "text": [
      "['apple', 'banana', 'cherry', 'date']\n",
      "['Green', 'Red', 'black']\n"
     ]
    }
   ],
   "source": [
    "\n",
    "fruits = ['apple', 'banana', 'cherry', 'date', 'elderberry']\n",
    "colors = [\"Green\", \"Red\", \"black\"]\n",
    "print(fruits[:4])\n",
    "print(colors)"
   ]
  },
  {
   "cell_type": "markdown",
   "id": "3d3fb604",
   "metadata": {},
   "source": [
    "Use case: Lists are commonly used to store collections of items such as a shopping list, a list of tasks to complete, or a list of names.\n"
   ]
  },
  {
   "cell_type": "markdown",
   "id": "5a7ba3fd",
   "metadata": {},
   "source": [
    "# Tuple"
   ]
  },
  {
   "cell_type": "markdown",
   "id": "62c0e844",
   "metadata": {},
   "source": [
    "**Tuple:** A tuple is similar to a list but is immutable, meaning its elements cannot be changed once it is created. Here's an example of a tuple that stores the name, age, and gender of a person:\n",
    "python"
   ]
  },
  {
   "cell_type": "markdown",
   "id": "f0790900",
   "metadata": {},
   "source": [
    "person = ('Rakesh', 32, 'Male')"
   ]
  },
  {
   "cell_type": "markdown",
   "id": "e070e94c",
   "metadata": {},
   "source": [
    "**Use case:** Tuples are commonly used to store fixed and unchanging data, such as date and time, coordinates, or to return multiple values from a function."
   ]
  },
  {
   "cell_type": "markdown",
   "id": "bb0d72c5",
   "metadata": {},
   "source": [
    "# Dictionary"
   ]
  },
  {
   "cell_type": "markdown",
   "id": "58893740",
   "metadata": {},
   "source": [
    "**Dictionary:** A dictionary is an unordered collection of key-value pairs, where each key is unique and used to retrieve its corresponding value. Here's an example of a dictionary that stores the names and ages of different people:\n",
    "python"
   ]
  },
  {
   "cell_type": "markdown",
   "id": "4527ed55",
   "metadata": {},
   "source": [
    "# Set"
   ]
  },
  {
   "cell_type": "code",
   "execution_count": 2,
   "id": "5ef44581",
   "metadata": {},
   "outputs": [],
   "source": [
    "people = {'Harish': 32, 'Shankar': 28, 'Sumeeth': 45}"
   ]
  },
  {
   "cell_type": "markdown",
   "id": "aed3ede3",
   "metadata": {},
   "source": [
    "**Use case:** Dictionaries are commonly used to store data that can be represented as key-value pairs, such as a map of city names to their populations or a map of names to email addresses.\n",
    "\n",
    "**Set:** A set is an unordered collection of unique elements, meaning it does not allow duplicate elements. Here's an example of a set that stores the unique elements of a list:\n",
    "scss"
   ]
  },
  {
   "cell_type": "code",
   "execution_count": 3,
   "id": "24d75625",
   "metadata": {},
   "outputs": [],
   "source": [
    "numbers = [1, 2, 3, 4, 5, 5, 4, 3, 2, 1]"
   ]
  },
  {
   "cell_type": "code",
   "execution_count": 4,
   "id": "8031b8f6",
   "metadata": {},
   "outputs": [
    {
     "name": "stdout",
     "output_type": "stream",
     "text": [
      "{1, 2, 3, 4, 5}\n"
     ]
    }
   ],
   "source": [
    "unique_numbers = set(numbers)\n",
    "print(unique_numbers)"
   ]
  },
  {
   "cell_type": "markdown",
   "id": "f20bf19f",
   "metadata": {},
   "source": [
    "**Use case:** Sets are commonly used to store collections of unique elements and to perform operations such as union, intersection, and difference between sets."
   ]
  },
  {
   "cell_type": "markdown",
   "id": "2bcd81d1",
   "metadata": {},
   "source": [
    "# String"
   ]
  },
  {
   "cell_type": "markdown",
   "id": "a2df94c3",
   "metadata": {},
   "source": [
    "**String:** A string is a sequence of characters. Strings are immutable, meaning their elements cannot be changed once they are created. Here's an example of a string:\n",
    "makefile"
   ]
  },
  {
   "cell_type": "code",
   "execution_count": 5,
   "id": "366853c9",
   "metadata": {},
   "outputs": [
    {
     "name": "stdout",
     "output_type": "stream",
     "text": [
      "Data, world!\n"
     ]
    }
   ],
   "source": [
    "text = \"Hello, world!\" #string\n",
    "changed = text.replace(\"Hello\", \"Data\")\n",
    "print(changed)"
   ]
  },
  {
   "cell_type": "markdown",
   "id": "17578848",
   "metadata": {},
   "source": [
    "**Use case:** Strings are commonly used to store and manipulate text data, such as sentences, names, or paragraphs."
   ]
  },
  {
   "cell_type": "markdown",
   "id": "d4732478",
   "metadata": {},
   "source": [
    "<span style=\"color:red; font-family:Comic Sans MS\">Sources & References</span>  \n",
    "<a href=\"https://www.geeksforgeeks.org/python-lists/?ref=lbp\" target=\"_blank\">https://www.geeksforgeeks.org/python-lists/?ref=lbp</a>  "
   ]
  }
 ],
 "metadata": {
  "hide_input": false,
  "jupytext": {
   "formats": "ipynb,Rmd,md,qmd"
  },
  "kernelspec": {
   "display_name": "Python 3 (ipykernel)",
   "language": "python",
   "name": "python3"
  },
  "language_info": {
   "codemirror_mode": {
    "name": "ipython",
    "version": 3
   },
   "file_extension": ".py",
   "mimetype": "text/x-python",
   "name": "python",
   "nbconvert_exporter": "python",
   "pygments_lexer": "ipython3",
   "version": "3.9.13"
  },
  "latex_envs": {
   "LaTeX_envs_menu_present": true,
   "autoclose": false,
   "autocomplete": true,
   "bibliofile": "biblio.bib",
   "cite_by": "apalike",
   "current_citInitial": 1,
   "eqLabelWithNumbers": true,
   "eqNumInitial": 1,
   "hotkeys": {
    "equation": "Ctrl-E",
    "itemize": "Ctrl-I"
   },
   "labels_anchors": false,
   "latex_user_defs": false,
   "report_style_numbering": false,
   "user_envs_cfg": false
  },
  "toc": {
   "base_numbering": 1,
   "nav_menu": {},
   "number_sections": true,
   "sideBar": true,
   "skip_h1_title": false,
   "title_cell": "Table of Contents",
   "title_sidebar": "Contents",
   "toc_cell": false,
   "toc_position": {},
   "toc_section_display": true,
   "toc_window_display": false
  },
  "varInspector": {
   "cols": {
    "lenName": 16,
    "lenType": 16,
    "lenVar": 40
   },
   "kernels_config": {
    "python": {
     "delete_cmd_postfix": "",
     "delete_cmd_prefix": "del ",
     "library": "var_list.py",
     "varRefreshCmd": "print(var_dic_list())"
    },
    "r": {
     "delete_cmd_postfix": ") ",
     "delete_cmd_prefix": "rm(",
     "library": "var_list.r",
     "varRefreshCmd": "cat(var_dic_list()) "
    }
   },
   "types_to_exclude": [
    "module",
    "function",
    "builtin_function_or_method",
    "instance",
    "_Feature"
   ],
   "window_display": false
  },
  "vscode": {
   "interpreter": {
    "hash": "57bc2b6ce032b5f0e93daa91901b7ea38a856826ef43aa9e95b6d3999f5310df"
   }
  }
 },
 "nbformat": 4,
 "nbformat_minor": 5
}
