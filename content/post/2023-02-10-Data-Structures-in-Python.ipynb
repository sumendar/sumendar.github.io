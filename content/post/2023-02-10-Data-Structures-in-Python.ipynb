{
 "cells": [
  {
   "cell_type": "raw",
   "id": "ad97ea0f",
   "metadata": {},
   "source": [
    "---\n",
    "title: Data-Structures-in-Python\n",
    "author: sumendar\n",
    "date: '2023-02-10'\n",
    "slug: Data-Structures-in-Python\n",
    "categories: ['python', 'data structures']\n",
    "tags: ['basics']\n",
    "subtitle: 'with real-life examples'\n",
    "---"
   ]
  },
  {
   "cell_type": "markdown",
   "id": "3c8ab468",
   "metadata": {},
   "source": [
    "In Python, a **data structures** is a way of organizing and storing data that enables efficient access and modification of the data. Here are some of the most commonly used data structures in Python along with real-life examples and their use cases:"
   ]
  },
  {
   "cell_type": "markdown",
   "id": "e2d8022f",
   "metadata": {},
   "source": [
    "# List"
   ]
  },
  {
   "cell_type": "markdown",
   "id": "89ad8c9b",
   "metadata": {},
   "source": [
    "**List:** \n",
    "A list is an ordered, mutable, and heterogeneous collection of elements. Each element in a list can be of any type, including another list. Here's an example of a list that stores the names of different fruits:\n",
    "css"
   ]
  },
  {
   "cell_type": "code",
   "execution_count": null,
   "id": "163a4274",
   "metadata": {},
   "outputs": [],
   "source": [
    "\n",
    "fruits = ['apple', 'banana', 'cherry', 'date', 'elderberry']"
   ]
  },
  {
   "cell_type": "markdown",
   "id": "e070e94c",
   "metadata": {},
   "source": [
    "# Tuple"
   ]
  },
  {
   "cell_type": "markdown",
   "id": "5e855cee",
   "metadata": {},
   "source": [
    "Use case: Lists are commonly used to store collections of items such as a shopping list, a list of tasks to complete, or a list of names.\n",
    "\n",
    "**Tuple:** A tuple is similar to a list but is immutable, meaning its elements cannot be changed once it is created. Here's an example of a tuple that stores the name, age, and gender of a person:\n",
    "python"
   ]
  },
  {
   "cell_type": "code",
   "execution_count": null,
   "id": "bea89df1",
   "metadata": {},
   "outputs": [],
   "source": [
    "person = ('Rakesh', 32, 'Male')"
   ]
  },
  {
   "cell_type": "markdown",
   "id": "e580ad62",
   "metadata": {},
   "source": [
    "**Use case:** Tuples are commonly used to store fixed and unchanging data, such as date and time, coordinates, or to return multiple values from a function."
   ]
  },
  {
   "cell_type": "markdown",
   "id": "bb0d72c5",
   "metadata": {},
   "source": [
    "# Dictionary"
   ]
  },
  {
   "cell_type": "markdown",
   "id": "58893740",
   "metadata": {},
   "source": [
    "**Dictionary:** A dictionary is an unordered collection of key-value pairs, where each key is unique and used to retrieve its corresponding value. Here's an example of a dictionary that stores the names and ages of different people:\n",
    "python"
   ]
  },
  {
   "cell_type": "markdown",
   "id": "4527ed55",
   "metadata": {},
   "source": [
    "# Set"
   ]
  },
  {
   "cell_type": "code",
   "execution_count": null,
   "id": "5ef44581",
   "metadata": {},
   "outputs": [],
   "source": [
    "people = {'Harish': 32, 'Shankar': 28, 'Sumeeth': 45}"
   ]
  },
  {
   "cell_type": "markdown",
   "id": "aed3ede3",
   "metadata": {},
   "source": [
    "**Use case:** Dictionaries are commonly used to store data that can be represented as key-value pairs, such as a map of city names to their populations or a map of names to email addresses.\n",
    "\n",
    "**Set:** A set is an unordered collection of unique elements, meaning it does not allow duplicate elements. Here's an example of a set that stores the unique elements of a list:\n",
    "scss"
   ]
  },
  {
   "cell_type": "code",
   "execution_count": null,
   "id": "24d75625",
   "metadata": {},
   "outputs": [],
   "source": [
    "numbers = [1, 2, 3, 4, 5, 5, 4, 3, 2, 1]"
   ]
  },
  {
   "cell_type": "code",
   "execution_count": null,
   "id": "8031b8f6",
   "metadata": {},
   "outputs": [],
   "source": [
    "unique_numbers = set(numbers)"
   ]
  },
  {
   "cell_type": "markdown",
   "id": "f20bf19f",
   "metadata": {},
   "source": [
    "**Use case:** Sets are commonly used to store collections of unique elements and to perform operations such as union, intersection, and difference between sets."
   ]
  },
  {
   "cell_type": "markdown",
   "id": "2bcd81d1",
   "metadata": {},
   "source": [
    "# String"
   ]
  },
  {
   "cell_type": "markdown",
   "id": "a2df94c3",
   "metadata": {},
   "source": [
    "**String:** A string is a sequence of characters. Strings are immutable, meaning their elements cannot be changed once they are created. Here's an example of a string:\n",
    "makefile"
   ]
  },
  {
   "cell_type": "code",
   "execution_count": null,
   "id": "366853c9",
   "metadata": {},
   "outputs": [],
   "source": [
    "text = \"Hello, world!\" #string"
   ]
  },
  {
   "cell_type": "markdown",
   "id": "17578848",
   "metadata": {},
   "source": [
    "**Use case:** Strings are commonly used to store and manipulate text data, such as sentences, names, or paragraphs."
   ]
  },
  {
   "cell_type": "markdown",
   "id": "d4732478",
   "metadata": {},
   "source": [
    "<span style=\"color:red; font-family:Comic Sans MS\">Sources & References</span>  \n",
    "<a href=\"https://www.geeksforgeeks.org/python-lists/?ref=lbp\" target=\"_blank\">https://www.geeksforgeeks.org/python-lists/?ref=lbp</a>  "
   ]
  }
 ],
 "metadata": {
  "jupytext": {
   "cell_metadata_filter": "-all",
   "main_language": "python",
   "notebook_metadata_filter": "-all",
   "text_representation": {
    "extension": ".md",
    "format_name": "markdown"
   }
  }
 },
 "nbformat": 4,
 "nbformat_minor": 5
}
