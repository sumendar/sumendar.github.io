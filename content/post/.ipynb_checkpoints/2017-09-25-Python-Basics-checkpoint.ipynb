{
 "cells": [
  {
   "cell_type": "raw",
   "id": "a7894640",
   "metadata": {},
   "source": [
    "---\n",
    "title: Python-Basics\n",
    "author: sumendar\n",
    "date: '2017-09-25'\n",
    "slug: Python-Basics\n",
    "categories: ['python', 'blogdown']\n",
    "tags: ['basics']\n",
    "subtitle: 'subtitle'\n",
    "---"
   ]
  },
  {
   "cell_type": "markdown",
   "id": "912d9098",
   "metadata": {},
   "source": [
    "In this blog post we will be going to discuss about python basics\n",
    "  \n",
    "Python is multi-purpose programming language developed by Guido van Rossum.\n",
    "  \n",
    "The language has  easy-to-use syntax, it's a perfect language for someone trying to learn any programming for the first time.\n",
    "  \n",
    "This is a comprehensive guide on Basic fundamentals concepts which we are keep in mind before writing code.\n",
    "  \n",
    "<h1>Table of Contents<span class=\"tocSkip\"></span></h1>\n",
    "<div class=\"toc\"><ul class=\"toc-item\"><li><span><a href=\"#Basics\" data-toc-modified-id=\"Basics-1\"><span class=\"toc-item-num\">1&nbsp;&nbsp;</span>Basics</a></span><ul class=\"toc-item\"><li><span><a href=\"#print()-function:\" data-toc-modified-id=\"print()-function:-1.1\"><span class=\"toc-item-num\">1.1&nbsp;&nbsp;</span><code>print()</code> function:</a></span></li><li><span><a href=\"#comment-with-#-symbol:\" data-toc-modified-id=\"comment-with-#-symbol:-1.2\"><span class=\"toc-item-num\">1.2&nbsp;&nbsp;</span>comment with <code>#</code> symbol:</a></span></li></ul></li><li><span><a href=\"#Operators\" data-toc-modified-id=\"Operators-2\"><span class=\"toc-item-num\">2&nbsp;&nbsp;</span>Operators</a></span></li><li><span><a href=\"#Primitive-Data-Types\" data-toc-modified-id=\"Primitive-Data-Types-3\"><span class=\"toc-item-num\">3&nbsp;&nbsp;</span>Primitive Data Types</a></span><ul class=\"toc-item\"><li><span><a href=\"#Booleans\" data-toc-modified-id=\"Booleans-3.1\"><span class=\"toc-item-num\">3.1&nbsp;&nbsp;</span>Booleans</a></span></li><li><span><a href=\"#Numbers\" data-toc-modified-id=\"Numbers-3.2\"><span class=\"toc-item-num\">3.2&nbsp;&nbsp;</span>Numbers</a></span><ul class=\"toc-item\"><li><span><a href=\"#integer\" data-toc-modified-id=\"integer-3.2.1\"><span class=\"toc-item-num\">3.2.1&nbsp;&nbsp;</span>integer</a></span></li><li><span><a href=\"#float\" data-toc-modified-id=\"float-3.2.2\"><span class=\"toc-item-num\">3.2.2&nbsp;&nbsp;</span>float</a></span></li><li><span><a href=\"#complex\" data-toc-modified-id=\"complex-3.2.3\"><span class=\"toc-item-num\">3.2.3&nbsp;&nbsp;</span>complex</a></span></li></ul></li><li><span><a href=\"#Strings\" data-toc-modified-id=\"Strings-3.3\"><span class=\"toc-item-num\">3.3&nbsp;&nbsp;</span>Strings</a></span></li><li><span><a href=\"#Date-and-Time\" data-toc-modified-id=\"Date-and-Time-3.4\"><span class=\"toc-item-num\">3.4&nbsp;&nbsp;</span>Date and Time</a></span></li></ul></li><li><span><a href=\"#Data-Structures\" data-toc-modified-id=\"Data-Structures-4\"><span class=\"toc-item-num\">4&nbsp;&nbsp;</span>Data Structures</a></span><ul class=\"toc-item\"><li><span><a href=\"#Composite-Data-Types\" data-toc-modified-id=\"Composite-Data-Types-4.1\"><span class=\"toc-item-num\">4.1&nbsp;&nbsp;</span>Composite Data Types</a></span><ul class=\"toc-item\"><li><span><a href=\"#Lists\" data-toc-modified-id=\"Lists-4.1.1\"><span class=\"toc-item-num\">4.1.1&nbsp;&nbsp;</span>Lists</a></span></li><li><span><a href=\"#Tuples\" data-toc-modified-id=\"Tuples-4.1.2\"><span class=\"toc-item-num\">4.1.2&nbsp;&nbsp;</span>Tuples</a></span></li></ul></li><li><span><a href=\"#Collection-data-types\" data-toc-modified-id=\"Collection-data-types-4.2\"><span class=\"toc-item-num\">4.2&nbsp;&nbsp;</span>Collection data types</a></span><ul class=\"toc-item\"><li><span><a href=\"#Dictionaries\" data-toc-modified-id=\"Dictionaries-4.2.1\"><span class=\"toc-item-num\">4.2.1&nbsp;&nbsp;</span>Dictionaries</a></span></li><li><span><a href=\"#Sets\" data-toc-modified-id=\"Sets-4.2.2\"><span class=\"toc-item-num\">4.2.2&nbsp;&nbsp;</span>Sets</a></span></li></ul></li></ul></li><li><span><a href=\"#Data-types-Tree\" data-toc-modified-id=\"Data-types-Tree-5\"><span class=\"toc-item-num\">5&nbsp;&nbsp;</span>Data types Tree</a></span></li><li><span><a href=\"#Queues(FIFO)-and-Stacks(LIFO)\" data-toc-modified-id=\"Queues(FIFO)-and-Stacks(LIFO)-6\"><span class=\"toc-item-num\">6&nbsp;&nbsp;</span>Queues(FIFO) and Stacks(LIFO)</a></span></li><li><span><a href=\"#Type-conversion\" data-toc-modified-id=\"Type-conversion-7\"><span class=\"toc-item-num\">7&nbsp;&nbsp;</span>Type conversion</a></span><ul class=\"toc-item\"><li><span><a href=\"#Implicit-type-conversion\" data-toc-modified-id=\"Implicit-type-conversion-7.1\"><span class=\"toc-item-num\">7.1&nbsp;&nbsp;</span>Implicit type conversion</a></span></li><li><span><a href=\"#Explicit-type-conversion\" data-toc-modified-id=\"Explicit-type-conversion-7.2\"><span class=\"toc-item-num\">7.2&nbsp;&nbsp;</span>Explicit type conversion</a></span></li></ul></li></ul></div>\n",
    "\n",
    "## Basics\n",
    "\n",
    "### `print()` function:\n"
   ]
  },
  {
   "cell_type": "code",
   "execution_count": null,
   "id": "80a9e110",
   "metadata": {},
   "outputs": [],
   "source": [
    "print('hello world')"
   ]
  },
  {
   "cell_type": "code",
   "execution_count": 1,
   "id": "6cf95290",
   "metadata": {},
   "outputs": [
    {
     "name": "stdout",
     "output_type": "stream",
     "text": [
      "$a\n",
      "[1]  3  5  1 -8  8 90\n",
      "\n",
      "$b\n",
      "     [,1] [,2] [,3]\n",
      "[1,]    1    5    9\n",
      "[2,]    2    6   10\n",
      "[3,]    3    7   11\n",
      "[4,]    4    8   12\n",
      "\n"
     ]
    }
   ],
   "source": [
    "lst = list(a=c(3,5,1,-8,8,90),b=matrix(1:12,4,3))\n",
    "print(lst)"
   ]
  },
  {
   "cell_type": "markdown",
   "id": "1ba1cea9",
   "metadata": {},
   "source": [
    "    hello world\n",
    "    \n"
   ]
  },
  {
   "cell_type": "code",
   "execution_count": null,
   "id": "62cc3075",
   "metadata": {},
   "outputs": [],
   "source": [
    "print(\"hello\", 'world')"
   ]
  },
  {
   "cell_type": "markdown",
   "id": "b4916908",
   "metadata": {},
   "source": [
    "    hello world\n",
    "    \n"
   ]
  },
  {
   "cell_type": "code",
   "execution_count": null,
   "id": "8db72fe1",
   "metadata": {},
   "outputs": [],
   "source": [
    "print(\"hello world\" + \"!\")"
   ]
  },
  {
   "cell_type": "markdown",
   "id": "f48267c8",
   "metadata": {},
   "source": [
    "    hello world!\n",
    "    \n"
   ]
  },
  {
   "cell_type": "code",
   "execution_count": null,
   "id": "6ef3458d",
   "metadata": {},
   "outputs": [],
   "source": [
    "print(\"welcome\", \"to\", \"python\", sep=\"_\", end=\";\")"
   ]
  },
  {
   "cell_type": "markdown",
   "id": "07f4333b",
   "metadata": {},
   "source": [
    "    welcome_to_python;\n"
   ]
  },
  {
   "cell_type": "code",
   "execution_count": null,
   "id": "8370cdd1",
   "metadata": {},
   "outputs": [],
   "source": [
    "print(\"welcome\", \"to\", \"python\", sep=\"_\", end=\";\")\n",
    "print(\"data science\")"
   ]
  },
  {
   "cell_type": "markdown",
   "id": "42514b42",
   "metadata": {},
   "source": [
    "    welcome_to_python;data science\n",
    "    \n"
   ]
  },
  {
   "cell_type": "code",
   "execution_count": null,
   "id": "80e238f6",
   "metadata": {},
   "outputs": [],
   "source": [
    "print(\"welcome\", \"to\", \"python\", sep=\"_\", end=\"\\n\") # end with new line(by default)\n",
    "print(\"data science\")"
   ]
  },
  {
   "cell_type": "markdown",
   "id": "86997fcc",
   "metadata": {},
   "source": [
    "    welcome_to_python\n",
    "    data science"
   ]
  },
  {
   "cell_type": "markdown",
   "id": "17ad9a77",
   "metadata": {},
   "source": [
    "### comment with `#` symbol: \n"
   ]
  },
  {
   "cell_type": "code",
   "execution_count": null,
   "id": "e65895bc",
   "metadata": {},
   "outputs": [],
   "source": [
    "# this statement will print the statement inside in it\n",
    "print(\"welcome to data science\")"
   ]
  },
  {
   "cell_type": "markdown",
   "id": "6d2ca12e",
   "metadata": {},
   "source": [
    "    welcome to data science"
   ]
  },
  {
   "cell_type": "markdown",
   "id": "5ebf24bd",
   "metadata": {},
   "source": [
    "Python has many native datatypes. Here are the important ones:\n",
    "\n",
    "* Booleans are either True or False.\n",
    "* Numbers can be integers (1 and 2), floats (1.1 and 1.2), fractions (1/2 and 2/3), or even complex numbers.\n",
    "* Strings are sequences of Unicode characters, e.g. an html document.\n",
    "* Lists are ordered sequences of values.\n",
    "* Dictionaries are unordered bags of key-value pairs.\n",
    "* Tuples are ordered, sequences of values and immutable (cannot be modified inplace)\n",
    "* Sets are unordered bags of values.\n",
    "\n",
    "## Operators\n",
    "\n",
    "| Operators (Decreasing order of precedence) | Operators (Decreasing order of precedence)        |\n",
    "|--------------------------------------------|---------------------------------------------------|\n",
    "| `**`                                       | Exponent                                          |\n",
    "| `+, -, *, /, //, %`                        | Addition, Subtraction, Multiplication, Division, Floor division, Modulus |\n",
    "| `< > <= >= == !=`                          | Comparison operators                              |\n",
    "| `= %= /= //= -= += *= **=`                 | Assignment Operators                              |\n",
    "| `is is not`                                | Identity operators                                |\n",
    "| `in not in`                                | Membership operators                              |\n",
    "| `not or and`                               | Logical operators                                 |\n",
    "\n",
    "<span style=\"color:red; font-family:centurygothic \">Continue...</span><a href=\"https://www.guru99.com/python-operators-complete-tutorial.html\" target=\"_blank\">https://www.guru99.com/python-operators-complete-tutorial.html</a>  \n",
    "\n",
    "## Primitive Data Types\n",
    "\n",
    "### Booleans\n"
   ]
  },
  {
   "cell_type": "code",
   "execution_count": null,
   "id": "265d7662",
   "metadata": {
    "lines_to_next_cell": 2
   },
   "outputs": [],
   "source": [
    "t = True"
   ]
  },
  {
   "cell_type": "code",
   "execution_count": null,
   "id": "4be28868",
   "metadata": {
    "lines_to_next_cell": 0
   },
   "outputs": [],
   "source": [
    "type(t)"
   ]
  },
  {
   "cell_type": "markdown",
   "id": "aabc7cf1",
   "metadata": {
    "lines_to_next_cell": 0
   },
   "source": [
    "\n",
    "\n",
    "\n",
    "\n",
    "    bool\n",
    "\n",
    "\n",
    "\n"
   ]
  },
  {
   "cell_type": "code",
   "execution_count": null,
   "id": "d6d737b6",
   "metadata": {
    "lines_to_next_cell": 0
   },
   "outputs": [],
   "source": [
    "False"
   ]
  },
  {
   "cell_type": "markdown",
   "id": "40d7d30e",
   "metadata": {},
   "source": [
    "\n",
    "\n",
    "\n",
    "\n",
    "    False\n",
    "\n",
    "\n",
    "\n",
    "### Numbers\n",
    "\n",
    "#### integer\n"
   ]
  },
  {
   "cell_type": "code",
   "execution_count": null,
   "id": "96e2b88f",
   "metadata": {
    "lines_to_next_cell": 0
   },
   "outputs": [],
   "source": [
    "i = 4 \n",
    "type(i)"
   ]
  },
  {
   "cell_type": "markdown",
   "id": "a6bb38c5",
   "metadata": {},
   "source": [
    "\n",
    "\n",
    "\n",
    "\n",
    "    int\n",
    "\n",
    "\n",
    "\n",
    "#### float\n"
   ]
  },
  {
   "cell_type": "code",
   "execution_count": null,
   "id": "dda94e51",
   "metadata": {
    "lines_to_next_cell": 0
   },
   "outputs": [],
   "source": [
    "f = 3.45 \n",
    "type(f)"
   ]
  },
  {
   "cell_type": "markdown",
   "id": "f3cb4af8",
   "metadata": {},
   "source": [
    "\n",
    "\n",
    "\n",
    "\n",
    "    float\n",
    "\n",
    "\n",
    "\n",
    "#### complex\n"
   ]
  },
  {
   "cell_type": "code",
   "execution_count": null,
   "id": "06917dfd",
   "metadata": {
    "lines_to_next_cell": 0
   },
   "outputs": [],
   "source": [
    "cmp = 3+4j\n",
    "type(cmp)"
   ]
  },
  {
   "cell_type": "markdown",
   "id": "31734eb9",
   "metadata": {
    "lines_to_next_cell": 0
   },
   "source": [
    "\n",
    "\n",
    "\n",
    "\n",
    "    complex\n",
    "\n",
    "\n",
    "\n"
   ]
  },
  {
   "cell_type": "code",
   "execution_count": null,
   "id": "d406255c",
   "metadata": {
    "lines_to_next_cell": 0
   },
   "outputs": [],
   "source": [
    "cmp.real"
   ]
  },
  {
   "cell_type": "markdown",
   "id": "a33ae893",
   "metadata": {
    "lines_to_next_cell": 0
   },
   "source": [
    "\n",
    "\n",
    "\n",
    "\n",
    "    3.0\n",
    "\n",
    "\n",
    "\n"
   ]
  },
  {
   "cell_type": "code",
   "execution_count": null,
   "id": "385aaa97",
   "metadata": {
    "lines_to_next_cell": 0
   },
   "outputs": [],
   "source": [
    "cmp.imag"
   ]
  },
  {
   "cell_type": "markdown",
   "id": "570011da",
   "metadata": {
    "lines_to_next_cell": 0
   },
   "source": [
    "\n",
    "\n",
    "\n",
    "\n",
    "    4.0\n",
    "\n",
    "\n",
    "\n"
   ]
  },
  {
   "cell_type": "code",
   "execution_count": null,
   "id": "60ef567f",
   "metadata": {
    "lines_to_next_cell": 0
   },
   "outputs": [],
   "source": [
    "1 + 1"
   ]
  },
  {
   "cell_type": "markdown",
   "id": "bd0a0be4",
   "metadata": {
    "lines_to_next_cell": 0
   },
   "source": [
    "\n",
    "\n",
    "\n",
    "\n",
    "    2\n",
    "\n",
    "\n",
    "\n"
   ]
  },
  {
   "cell_type": "code",
   "execution_count": null,
   "id": "8118db5c",
   "metadata": {
    "lines_to_next_cell": 0
   },
   "outputs": [],
   "source": [
    "1 * 3"
   ]
  },
  {
   "cell_type": "markdown",
   "id": "ecd67300",
   "metadata": {
    "lines_to_next_cell": 0
   },
   "source": [
    "\n",
    "\n",
    "\n",
    "\n",
    "    3\n",
    "\n",
    "\n",
    "\n"
   ]
  },
  {
   "cell_type": "code",
   "execution_count": null,
   "id": "ebf7a3e6",
   "metadata": {
    "lines_to_next_cell": 0
   },
   "outputs": [],
   "source": [
    "1 / 2"
   ]
  },
  {
   "cell_type": "markdown",
   "id": "f7772d68",
   "metadata": {
    "lines_to_next_cell": 0
   },
   "source": [
    "\n",
    "\n",
    "\n",
    "\n",
    "    0.5\n",
    "\n",
    "\n",
    "\n"
   ]
  },
  {
   "cell_type": "code",
   "execution_count": null,
   "id": "e73988d8",
   "metadata": {},
   "outputs": [],
   "source": [
    "print(7+8)\n",
    "print(4*6)\n",
    "2 ** 4"
   ]
  },
  {
   "cell_type": "markdown",
   "id": "69418cd5",
   "metadata": {
    "lines_to_next_cell": 0
   },
   "source": [
    "    15\n",
    "    24\n",
    "    \n",
    "\n",
    "\n",
    "\n",
    "\n",
    "    16\n",
    "\n",
    "\n",
    "\n"
   ]
  },
  {
   "cell_type": "code",
   "execution_count": null,
   "id": "8e449817",
   "metadata": {
    "lines_to_next_cell": 0
   },
   "outputs": [],
   "source": [
    "4 % 2"
   ]
  },
  {
   "cell_type": "markdown",
   "id": "f8074345",
   "metadata": {
    "lines_to_next_cell": 0
   },
   "source": [
    "\n",
    "\n",
    "\n",
    "\n",
    "    0\n",
    "\n",
    "\n",
    "\n"
   ]
  },
  {
   "cell_type": "code",
   "execution_count": null,
   "id": "6591410d",
   "metadata": {
    "lines_to_next_cell": 0
   },
   "outputs": [],
   "source": [
    "5 % 2"
   ]
  },
  {
   "cell_type": "markdown",
   "id": "3faafbaa",
   "metadata": {
    "lines_to_next_cell": 0
   },
   "source": [
    "\n",
    "\n",
    "\n",
    "\n",
    "    1\n",
    "\n",
    "\n",
    "\n"
   ]
  },
  {
   "cell_type": "code",
   "execution_count": null,
   "id": "baee90d8",
   "metadata": {
    "lines_to_next_cell": 0
   },
   "outputs": [],
   "source": [
    "(2 + 3) * (5 + 5)"
   ]
  },
  {
   "cell_type": "markdown",
   "id": "f19726ca",
   "metadata": {},
   "source": [
    "\n",
    "\n",
    "\n",
    "\n",
    "    50\n",
    "\n",
    "\n",
    "\n",
    "**Number Calculations**  \n",
    "(Operator Precedence)  \n",
    "\n",
    "* PEMDAS(parenthesis, exponents, multiplication, division, addition, subtraction)\n"
   ]
  },
  {
   "cell_type": "code",
   "execution_count": null,
   "id": "fdca0ed6",
   "metadata": {
    "lines_to_next_cell": 0
   },
   "outputs": [],
   "source": [
    "3+3/3"
   ]
  },
  {
   "cell_type": "markdown",
   "id": "1680cad1",
   "metadata": {
    "lines_to_next_cell": 0
   },
   "source": [
    "\n",
    "\n",
    "\n",
    "\n",
    "    4.0\n",
    "\n",
    "\n",
    "\n"
   ]
  },
  {
   "cell_type": "code",
   "execution_count": null,
   "id": "98b02e04",
   "metadata": {
    "lines_to_next_cell": 0
   },
   "outputs": [],
   "source": [
    "(3+3)/3"
   ]
  },
  {
   "cell_type": "markdown",
   "id": "28baf877",
   "metadata": {
    "lines_to_next_cell": 0
   },
   "source": [
    "\n",
    "\n",
    "\n",
    "\n",
    "    2.0\n",
    "\n",
    "\n",
    "\n"
   ]
  },
  {
   "cell_type": "code",
   "execution_count": null,
   "id": "38bf3662",
   "metadata": {
    "lines_to_next_cell": 0
   },
   "outputs": [],
   "source": [
    "((((13+5)*2)-4)/2)-13\n",
    "# How did that happen? Let’s work it out.\n",
    "# 13+5 gives us 18\n",
    "# 18*2 gives us 36\n",
    "# 36-4 gives us 32\n",
    "# 32/2 gives us 16.0 #Note that division gives us floats!\n",
    "# 16-13 gives us 3.0"
   ]
  },
  {
   "cell_type": "markdown",
   "id": "d8f81335",
   "metadata": {},
   "source": [
    "\n",
    "\n",
    "\n",
    "\n",
    "    3.0\n",
    "\n",
    "\n",
    "\n",
    "https://data-flair.training/blogs/python-operator-precedence/\n",
    "\n",
    "### Strings\n",
    "\n",
    "* string is a ordered sequence of characters. \n",
    "* A string is contained within two quotes or single quotes. \n",
    "* A string can be spaces or digits. \n",
    "* A string can also be special characters. \n",
    "* Positive / Negative indexing applicable\n",
    "* Strings are immutable(we cannot change inplace but we can create another string from it)\n"
   ]
  },
  {
   "cell_type": "code",
   "execution_count": null,
   "id": "de4eb494",
   "metadata": {
    "lines_to_next_cell": 2
   },
   "outputs": [],
   "source": [
    "st = 'data science and machine learning with python'"
   ]
  },
  {
   "cell_type": "code",
   "execution_count": null,
   "id": "05be7172",
   "metadata": {
    "lines_to_next_cell": 0
   },
   "outputs": [],
   "source": [
    "type(st)"
   ]
  },
  {
   "cell_type": "markdown",
   "id": "96b4f286",
   "metadata": {},
   "source": [
    "\n",
    "\n",
    "\n",
    "\n",
    "    str\n",
    "\n",
    "\n",
    "\n",
    "**Indexing:**\n"
   ]
  },
  {
   "cell_type": "code",
   "execution_count": null,
   "id": "c68d556c",
   "metadata": {},
   "outputs": [],
   "source": [
    "# positive indexing\n",
    "print(st[0])\n",
    "print(st[1])\n",
    "print(st[2])"
   ]
  },
  {
   "cell_type": "markdown",
   "id": "ab63cb0c",
   "metadata": {},
   "source": [
    "    d\n",
    "    a\n",
    "    t\n",
    "    \n"
   ]
  },
  {
   "cell_type": "code",
   "execution_count": null,
   "id": "0a037126",
   "metadata": {},
   "outputs": [],
   "source": [
    "# negative indexing\n",
    "print(st[-1])\n",
    "print(st[-2])\n",
    "print(st[-3])"
   ]
  },
  {
   "cell_type": "markdown",
   "id": "8321472a",
   "metadata": {},
   "source": [
    "    n\n",
    "    o\n",
    "    h"
   ]
  },
  {
   "cell_type": "markdown",
   "id": "4878a4ab",
   "metadata": {},
   "source": [
    "**Slicing:**\n"
   ]
  },
  {
   "cell_type": "code",
   "execution_count": null,
   "id": "22d82e5f",
   "metadata": {},
   "outputs": [],
   "source": [
    "print(st[0:4])\n",
    "print(st[:4])\n",
    "print(st[4:])\n",
    "print(st[5:9])\n",
    "print(st[::2]) # step 2\n",
    "print(st[::3]) # step 2\n",
    "print(st[2:12:4]) # \n",
    "print(st[::-1])  # reverse the string\n",
    "print(st[::-2])  # reverse the string with step 1"
   ]
  },
  {
   "cell_type": "markdown",
   "id": "db54b4fe",
   "metadata": {},
   "source": [
    "    data\n",
    "    data\n",
    "     science and machine learning with python\n",
    "    scie\n",
    "    dt cec n ahn erigwt yhn\n",
    "    dacn dai ai tph\n",
    "    tcc\n",
    "    nohtyp htiw gninrael enihcam dna ecneics atad\n",
    "    nhy twgire nha n cec td"
   ]
  },
  {
   "cell_type": "markdown",
   "id": "6fd9eecb",
   "metadata": {},
   "source": [
    "**String Methods:**\n"
   ]
  },
  {
   "cell_type": "code",
   "execution_count": null,
   "id": "48982caf",
   "metadata": {
    "lines_to_next_cell": 2
   },
   "outputs": [],
   "source": [
    "s= \"hello world\" # using double quotes"
   ]
  },
  {
   "cell_type": "code",
   "execution_count": null,
   "id": "7f03ba0c",
   "metadata": {
    "lines_to_next_cell": 2
   },
   "outputs": [],
   "source": [
    "s= 'hello world' # using single quotes"
   ]
  },
  {
   "cell_type": "code",
   "execution_count": null,
   "id": "91fa54d7",
   "metadata": {},
   "outputs": [],
   "source": [
    "# Multi-line Strings\n",
    "to_you = \"\"\"Stranger, if you passing meet me and desire to speak to me, why\n",
    "  should you not speak to me?\n",
    "And why should I not speak to you?\"\"\"\n",
    "\n",
    "print(to_you)"
   ]
  },
  {
   "cell_type": "markdown",
   "id": "0342a196",
   "metadata": {},
   "source": [
    "    Stranger, if you passing meet me and desire to speak to me, why\n",
    "      should you not speak to me?\n",
    "    And why should I not speak to you?\n",
    "    \n"
   ]
  },
  {
   "cell_type": "code",
   "execution_count": null,
   "id": "1ebf2af4",
   "metadata": {
    "lines_to_next_cell": 0
   },
   "outputs": [],
   "source": [
    "s.index('d')"
   ]
  },
  {
   "cell_type": "markdown",
   "id": "e452e545",
   "metadata": {
    "lines_to_next_cell": 0
   },
   "source": [
    "\n",
    "\n",
    "\n",
    "\n",
    "    10\n",
    "\n",
    "\n",
    "\n"
   ]
  },
  {
   "cell_type": "code",
   "execution_count": null,
   "id": "da2716b5",
   "metadata": {
    "lines_to_next_cell": 0
   },
   "outputs": [],
   "source": [
    "s.capitalize()"
   ]
  },
  {
   "cell_type": "markdown",
   "id": "c42ba0d0",
   "metadata": {
    "lines_to_next_cell": 0
   },
   "source": [
    "\n",
    "\n",
    "\n",
    "\n",
    "    'Hello world'\n",
    "\n",
    "\n",
    "\n"
   ]
  },
  {
   "cell_type": "code",
   "execution_count": null,
   "id": "d204b8f0",
   "metadata": {
    "lines_to_next_cell": 0
   },
   "outputs": [],
   "source": [
    "s.count('o')"
   ]
  },
  {
   "cell_type": "markdown",
   "id": "68a42ce1",
   "metadata": {
    "lines_to_next_cell": 0
   },
   "source": [
    "\n",
    "\n",
    "\n",
    "\n",
    "    2\n",
    "\n",
    "\n",
    "\n"
   ]
  },
  {
   "cell_type": "code",
   "execution_count": null,
   "id": "ff19ddc5",
   "metadata": {},
   "outputs": [],
   "source": [
    "value = \"cat ppicture is cat picture\"\n",
    "\n",
    "# Find first index of this string.\n",
    "i = value.find(\"p\")\n",
    "print(i)\n",
    "\n",
    "# Find first index (of this string) after previous index.\n",
    "b = value.find(\"p\", i + 1)\n",
    "print(b)\n",
    "\n",
    "\n",
    "b = value.find(\"p\", i + 2)\n",
    "print(b)"
   ]
  },
  {
   "cell_type": "markdown",
   "id": "2199e768",
   "metadata": {},
   "source": [
    "    4\n",
    "    5\n",
    "    20"
   ]
  },
  {
   "cell_type": "markdown",
   "id": "12dd7d1a",
   "metadata": {},
   "source": [
    "The `index()` method is similar to `find()` method for strings. The only difference is that `find()` method returns -1 if the substring is not found, whereas `index()` throws an exception.\n"
   ]
  },
  {
   "cell_type": "code",
   "execution_count": null,
   "id": "0f2049fb",
   "metadata": {
    "lines_to_next_cell": 0
   },
   "outputs": [],
   "source": [
    "s.title()"
   ]
  },
  {
   "cell_type": "markdown",
   "id": "ae212da9",
   "metadata": {
    "lines_to_next_cell": 0
   },
   "source": [
    "\n",
    "\n",
    "\n",
    "\n",
    "    'Hello World'\n",
    "\n",
    "\n",
    "\n"
   ]
  },
  {
   "cell_type": "code",
   "execution_count": null,
   "id": "4c5cbbc5",
   "metadata": {
    "lines_to_next_cell": 0
   },
   "outputs": [],
   "source": [
    "s.upper()"
   ]
  },
  {
   "cell_type": "markdown",
   "id": "85cc8df7",
   "metadata": {
    "lines_to_next_cell": 0
   },
   "source": [
    "\n",
    "\n",
    "\n",
    "\n",
    "    'HELLO WORLD'\n",
    "\n",
    "\n",
    "\n"
   ]
  },
  {
   "cell_type": "code",
   "execution_count": null,
   "id": "3862c0c5",
   "metadata": {
    "lines_to_next_cell": 0
   },
   "outputs": [],
   "source": [
    "s.islower()"
   ]
  },
  {
   "cell_type": "markdown",
   "id": "7736ad0a",
   "metadata": {
    "lines_to_next_cell": 0
   },
   "source": [
    "\n",
    "\n",
    "\n",
    "\n",
    "    True\n",
    "\n",
    "\n",
    "\n"
   ]
  },
  {
   "cell_type": "code",
   "execution_count": null,
   "id": "07853eb4",
   "metadata": {
    "lines_to_next_cell": 2
   },
   "outputs": [],
   "source": [
    "s= \"HELLO WORLD\""
   ]
  },
  {
   "cell_type": "code",
   "execution_count": null,
   "id": "34e08b31",
   "metadata": {
    "lines_to_next_cell": 0
   },
   "outputs": [],
   "source": [
    "s.islower()"
   ]
  },
  {
   "cell_type": "markdown",
   "id": "a6b6fa6c",
   "metadata": {
    "lines_to_next_cell": 0
   },
   "source": [
    "\n",
    "\n",
    "\n",
    "\n",
    "    False\n",
    "\n",
    "\n",
    "\n"
   ]
  },
  {
   "cell_type": "code",
   "execution_count": null,
   "id": "aa52a41d",
   "metadata": {
    "lines_to_next_cell": 0
   },
   "outputs": [],
   "source": [
    "s.capitalize()"
   ]
  },
  {
   "cell_type": "markdown",
   "id": "51b6447e",
   "metadata": {
    "lines_to_next_cell": 0
   },
   "source": [
    "\n",
    "\n",
    "\n",
    "\n",
    "    'Hello world'\n",
    "\n",
    "\n",
    "\n"
   ]
  },
  {
   "cell_type": "code",
   "execution_count": null,
   "id": "4a776d4a",
   "metadata": {
    "lines_to_next_cell": 0
   },
   "outputs": [],
   "source": [
    "s.lower()"
   ]
  },
  {
   "cell_type": "markdown",
   "id": "3bd45c0d",
   "metadata": {
    "lines_to_next_cell": 0
   },
   "source": [
    "\n",
    "\n",
    "\n",
    "\n",
    "    'hello world'\n",
    "\n",
    "\n",
    "\n"
   ]
  },
  {
   "cell_type": "code",
   "execution_count": null,
   "id": "9e7ccecd",
   "metadata": {
    "lines_to_next_cell": 2
   },
   "outputs": [],
   "source": [
    "s = \"HeLlO WoRlD\""
   ]
  },
  {
   "cell_type": "code",
   "execution_count": null,
   "id": "c8918ac4",
   "metadata": {
    "lines_to_next_cell": 0
   },
   "outputs": [],
   "source": [
    "s.swapcase()"
   ]
  },
  {
   "cell_type": "markdown",
   "id": "8c446123",
   "metadata": {
    "lines_to_next_cell": 0
   },
   "source": [
    "\n",
    "\n",
    "\n",
    "\n",
    "    'hElLo wOrLd'\n",
    "\n",
    "\n",
    "\n"
   ]
  },
  {
   "cell_type": "code",
   "execution_count": null,
   "id": "b873555f",
   "metadata": {
    "lines_to_next_cell": 2
   },
   "outputs": [],
   "source": [
    "s = \" Hello world how are you \""
   ]
  },
  {
   "cell_type": "code",
   "execution_count": null,
   "id": "8d5746bb",
   "metadata": {
    "lines_to_next_cell": 2
   },
   "outputs": [],
   "source": [
    "s = \"hello world how are you\""
   ]
  },
  {
   "cell_type": "code",
   "execution_count": null,
   "id": "1ec2ed12",
   "metadata": {
    "lines_to_next_cell": 0
   },
   "outputs": [],
   "source": [
    "s.capitalize()"
   ]
  },
  {
   "cell_type": "markdown",
   "id": "8b70a7bf",
   "metadata": {
    "lines_to_next_cell": 0
   },
   "source": [
    "\n",
    "\n",
    "\n",
    "\n",
    "    'Hello world how are you'\n",
    "\n",
    "\n",
    "\n"
   ]
  },
  {
   "cell_type": "code",
   "execution_count": null,
   "id": "fa03ea1f",
   "metadata": {
    "lines_to_next_cell": 0
   },
   "outputs": [],
   "source": [
    "s.title()"
   ]
  },
  {
   "cell_type": "markdown",
   "id": "91ddce29",
   "metadata": {
    "lines_to_next_cell": 0
   },
   "source": [
    "\n",
    "\n",
    "\n",
    "\n",
    "    'Hello World How Are You'\n",
    "\n",
    "\n",
    "\n"
   ]
  },
  {
   "cell_type": "code",
   "execution_count": null,
   "id": "e3ba22c5",
   "metadata": {
    "lines_to_next_cell": 0
   },
   "outputs": [],
   "source": [
    "s.upper()"
   ]
  },
  {
   "cell_type": "markdown",
   "id": "10929596",
   "metadata": {
    "lines_to_next_cell": 0
   },
   "source": [
    "\n",
    "\n",
    "\n",
    "\n",
    "    'HELLO WORLD HOW ARE YOU'\n",
    "\n",
    "\n",
    "\n"
   ]
  },
  {
   "cell_type": "code",
   "execution_count": null,
   "id": "0863b8fb",
   "metadata": {
    "lines_to_next_cell": 0
   },
   "outputs": [],
   "source": [
    "\"H\" in s"
   ]
  },
  {
   "cell_type": "markdown",
   "id": "c5bf7fe6",
   "metadata": {
    "lines_to_next_cell": 0
   },
   "source": [
    "\n",
    "\n",
    "\n",
    "\n",
    "    False\n",
    "\n",
    "\n",
    "\n"
   ]
  },
  {
   "cell_type": "code",
   "execution_count": null,
   "id": "cb6c6848",
   "metadata": {
    "lines_to_next_cell": 0
   },
   "outputs": [],
   "source": [
    "\"h\" in s"
   ]
  },
  {
   "cell_type": "markdown",
   "id": "a38a1cc1",
   "metadata": {
    "lines_to_next_cell": 0
   },
   "source": [
    "\n",
    "\n",
    "\n",
    "\n",
    "    True\n",
    "\n",
    "\n",
    "\n"
   ]
  },
  {
   "cell_type": "code",
   "execution_count": null,
   "id": "fca1e849",
   "metadata": {
    "lines_to_next_cell": 0
   },
   "outputs": [],
   "source": [
    "len(s)"
   ]
  },
  {
   "cell_type": "markdown",
   "id": "a757eaa6",
   "metadata": {
    "lines_to_next_cell": 0
   },
   "source": [
    "\n",
    "\n",
    "\n",
    "\n",
    "    11\n",
    "\n",
    "\n",
    "\n"
   ]
  },
  {
   "cell_type": "code",
   "execution_count": null,
   "id": "2eb736a7",
   "metadata": {
    "lines_to_next_cell": 2
   },
   "outputs": [],
   "source": [
    "s = ' hello world how are you'"
   ]
  },
  {
   "cell_type": "code",
   "execution_count": null,
   "id": "665634d1",
   "metadata": {
    "lines_to_next_cell": 0
   },
   "outputs": [],
   "source": [
    "s.strip()"
   ]
  },
  {
   "cell_type": "markdown",
   "id": "861d94cd",
   "metadata": {
    "lines_to_next_cell": 0
   },
   "source": [
    "\n",
    "\n",
    "\n",
    "\n",
    "    'hello world how are you'\n",
    "\n",
    "\n",
    "\n"
   ]
  },
  {
   "cell_type": "code",
   "execution_count": null,
   "id": "85e26242",
   "metadata": {
    "lines_to_next_cell": 0
   },
   "outputs": [],
   "source": [
    "min(s.strip())"
   ]
  },
  {
   "cell_type": "markdown",
   "id": "0a7c52dd",
   "metadata": {
    "lines_to_next_cell": 0
   },
   "source": [
    "\n",
    "\n",
    "\n",
    "\n",
    "    ' '\n",
    "\n",
    "\n",
    "\n"
   ]
  },
  {
   "cell_type": "code",
   "execution_count": null,
   "id": "8c56cce3",
   "metadata": {
    "lines_to_next_cell": 0
   },
   "outputs": [],
   "source": [
    "max(s)"
   ]
  },
  {
   "cell_type": "markdown",
   "id": "e391004b",
   "metadata": {
    "lines_to_next_cell": 0
   },
   "source": [
    "\n",
    "\n",
    "\n",
    "\n",
    "    'y'\n",
    "\n",
    "\n",
    "\n"
   ]
  },
  {
   "cell_type": "code",
   "execution_count": null,
   "id": "ca79182e",
   "metadata": {
    "lines_to_next_cell": 0
   },
   "outputs": [],
   "source": [
    "s"
   ]
  },
  {
   "cell_type": "markdown",
   "id": "f4bd38a1",
   "metadata": {
    "lines_to_next_cell": 0
   },
   "source": [
    "\n",
    "\n",
    "\n",
    "\n",
    "    ' hello world how are you'\n",
    "\n",
    "\n",
    "\n"
   ]
  },
  {
   "cell_type": "code",
   "execution_count": null,
   "id": "2d4fb4d5",
   "metadata": {
    "lines_to_next_cell": 0
   },
   "outputs": [],
   "source": [
    "s.isspace()"
   ]
  },
  {
   "cell_type": "markdown",
   "id": "26ecd63c",
   "metadata": {
    "lines_to_next_cell": 0
   },
   "source": [
    "\n",
    "\n",
    "\n",
    "\n",
    "    False\n",
    "\n",
    "\n",
    "\n"
   ]
  },
  {
   "cell_type": "code",
   "execution_count": null,
   "id": "38e22603",
   "metadata": {
    "lines_to_next_cell": 0
   },
   "outputs": [],
   "source": [
    "s.strip()"
   ]
  },
  {
   "cell_type": "markdown",
   "id": "c005a181",
   "metadata": {},
   "source": [
    "\n",
    "\n",
    "\n",
    "\n",
    "    'hello world how are you'\n",
    "\n",
    "\n",
    "\n",
    "**strings immutable nature **"
   ]
  },
  {
   "cell_type": "markdown",
   "id": "d77dc7a2",
   "metadata": {},
   "source": [
    "`my_string = \"abc\"`  \n",
    "`my_string[0] = \"d\"`  \n",
    "```{py}\n",
    "---------------------------------------------------------------------------\n",
    "TypeError                                 Traceback (most recent call last)\n",
    "<ipython-input-1-f26f28798517> in <module>()\n",
    "      1 my_string = \"abc\"\n",
    "----> 2 my_string[0] = \"d\"\n",
    "\n",
    "TypeError: 'str' object does not support item assignment\n",
    "```\n",
    "\n",
    "*strings are immutable, which means you can't change an existing string (inplace). The best you can do is create a new string that is a variation on the original:*\n"
   ]
  },
  {
   "cell_type": "code",
   "execution_count": null,
   "id": "383ec13d",
   "metadata": {},
   "outputs": [],
   "source": [
    "greeting = 'Hello, world!'\n",
    "new_greeting = 'J' + greeting[1:]\n",
    "print(new_greeting)\n",
    "print(greeting)"
   ]
  },
  {
   "cell_type": "markdown",
   "id": "aaa9f4d8",
   "metadata": {},
   "source": [
    "    Jello, world!\n",
    "    Hello, world!"
   ]
  },
  {
   "cell_type": "markdown",
   "id": "706dda7c",
   "metadata": {},
   "source": [
    "**String.format()**  \n"
   ]
  },
  {
   "cell_type": "code",
   "execution_count": null,
   "id": "b7a9adc3",
   "metadata": {
    "lines_to_next_cell": 0
   },
   "outputs": [],
   "source": [
    "name = \"sumendar\"\n",
    "greeting = \"My name is {}\".format(name)\n",
    "greeting"
   ]
  },
  {
   "cell_type": "markdown",
   "id": "ba07f609",
   "metadata": {},
   "source": [
    "\n",
    "\n",
    "\n",
    "\n",
    "    'My name is sumendar'\n",
    "\n",
    "\n",
    "\n",
    "**String concatenation**\n"
   ]
  },
  {
   "cell_type": "code",
   "execution_count": null,
   "id": "a97b8343",
   "metadata": {},
   "outputs": [],
   "source": [
    "print(\"happy\" + \" \" + \"birthday\")\n",
    "print(\"my name is \" + \"john\")"
   ]
  },
  {
   "cell_type": "markdown",
   "id": "378c972c",
   "metadata": {},
   "source": [
    "    happy birthday\n",
    "    my name is john"
   ]
  },
  {
   "cell_type": "markdown",
   "id": "fe8c2db4",
   "metadata": {},
   "source": [
    "**Escape Sequences in Strings**\n",
    "\n",
    "* backslash (\\) character is used in some strings to be treated one or more characters specially. \n",
    "* This is referred to as an escape sequence, because `the backslash causes the subsequent character sequence to “escape”` its usual meaning.\n"
   ]
  },
  {
   "cell_type": "code",
   "execution_count": null,
   "id": "87117baf",
   "metadata": {
    "lines_to_next_cell": 2
   },
   "outputs": [],
   "source": [
    "print('This string contains a single quote (') character.')\n",
    "# gives a syntaxError"
   ]
  },
  {
   "cell_type": "markdown",
   "id": "af4288fa",
   "metadata": {},
   "source": [
    "      File \"<ipython-input-8-4fb72c6c5730>\", line 1\n",
    "        print('This string contains a single quote (') character.')\n",
    "                                                               ^\n",
    "    SyntaxError: invalid syntax\n",
    "    \n",
    "\n"
   ]
  },
  {
   "cell_type": "code",
   "execution_count": null,
   "id": "e054e425",
   "metadata": {},
   "outputs": [],
   "source": [
    "print('This string contains a single quote (\\') character.')\n",
    "print(\"This string contains a double quote (\\\") character.\")"
   ]
  },
  {
   "cell_type": "markdown",
   "id": "04e6a354",
   "metadata": {},
   "source": [
    "    This string contains a single quote (') character.\n",
    "    This string contains a double quote (\") character.\n",
    "    \n"
   ]
  },
  {
   "cell_type": "code",
   "execution_count": null,
   "id": "32b50b9e",
   "metadata": {
    "lines_to_next_cell": 2
   },
   "outputs": [],
   "source": [
    "print('a,\n",
    "      b,\n",
    "      c)    # if we press Enter will gives SyntaxError after each letter"
   ]
  },
  {
   "cell_type": "markdown",
   "id": "03f13bda",
   "metadata": {},
   "source": [
    "      File \"<ipython-input-11-06aeb0cb83d6>\", line 1\n",
    "        print('a,\n",
    "                 ^\n",
    "    SyntaxError: EOL while scanning string literal\n",
    "    \n",
    "\n"
   ]
  },
  {
   "cell_type": "code",
   "execution_count": null,
   "id": "44b820c6",
   "metadata": {},
   "outputs": [],
   "source": [
    "print('a\\\n",
    "b\\\n",
    "c')\n",
    "\n",
    "print('a\\\n",
    "b\\\n",
    "c')"
   ]
  },
  {
   "cell_type": "markdown",
   "id": "2a27010e",
   "metadata": {},
   "source": [
    "    abc\n",
    "    abc\n",
    "    \n"
   ]
  },
  {
   "cell_type": "code",
   "execution_count": null,
   "id": "93fc321f",
   "metadata": {},
   "outputs": [],
   "source": [
    "print('foo\\\\bar') # o include a literal backslash in a string, escape it with a backslash"
   ]
  },
  {
   "cell_type": "markdown",
   "id": "22e7cdd3",
   "metadata": {},
   "source": [
    "    foo\\bar\n",
    "    \n"
   ]
  },
  {
   "cell_type": "code",
   "execution_count": null,
   "id": "8bbd5e9e",
   "metadata": {},
   "outputs": [],
   "source": [
    "print(r'foo\\bar') # o include a literal backslash in a string, escape it with a letter r "
   ]
  },
  {
   "cell_type": "markdown",
   "id": "7e1bab37",
   "metadata": {},
   "source": [
    "    foo\\bar"
   ]
  },
  {
   "cell_type": "markdown",
   "id": "2628cba7",
   "metadata": {},
   "source": [
    "**Applying Special Meaning to Characters**\n"
   ]
  },
  {
   "cell_type": "code",
   "execution_count": null,
   "id": "5a455459",
   "metadata": {},
   "outputs": [],
   "source": [
    "print('foo\\tbar')\n",
    "print(\"a\\tb\")\n",
    "print(\"a\\141\\x61\")\n",
    "print(\"a\\nb\")\n",
    "print('\\u2192 \\N{rightwards arrow}')"
   ]
  },
  {
   "cell_type": "markdown",
   "id": "c252b96e",
   "metadata": {},
   "source": [
    "    foo\tbar\n",
    "    a\tb\n",
    "    aaa\n",
    "    a\n",
    "    b\n",
    "    → →"
   ]
  },
  {
   "cell_type": "markdown",
   "id": "c4781c35",
   "metadata": {},
   "source": [
    "**Raw Strings**\n",
    "\n",
    "* A raw string literal is preceded by r or R.  \n",
    "* Escape sequences in the associated string are not translated. The backslash character is left in the string:\n"
   ]
  },
  {
   "cell_type": "code",
   "execution_count": null,
   "id": "c4103155",
   "metadata": {},
   "outputs": [],
   "source": [
    "print('foo\\nbar')"
   ]
  },
  {
   "cell_type": "markdown",
   "id": "ea7a1da4",
   "metadata": {},
   "source": [
    "    foo\n",
    "    bar\n",
    "    \n"
   ]
  },
  {
   "cell_type": "code",
   "execution_count": null,
   "id": "012480ce",
   "metadata": {},
   "outputs": [],
   "source": [
    "print(r'foo\\nbar')"
   ]
  },
  {
   "cell_type": "markdown",
   "id": "1359c401",
   "metadata": {},
   "source": [
    "    foo\\nbar\n",
    "    \n"
   ]
  },
  {
   "cell_type": "code",
   "execution_count": null,
   "id": "a130d22b",
   "metadata": {},
   "outputs": [],
   "source": [
    "print('foo\\\\bar')"
   ]
  },
  {
   "cell_type": "markdown",
   "id": "12555728",
   "metadata": {},
   "source": [
    "    foo\\bar\n",
    "    \n"
   ]
  },
  {
   "cell_type": "code",
   "execution_count": null,
   "id": "4cce4eea",
   "metadata": {},
   "outputs": [],
   "source": [
    "print(r'foo\\\\bar')"
   ]
  },
  {
   "cell_type": "markdown",
   "id": "d5cb977a",
   "metadata": {},
   "source": [
    "    foo\\\\bar"
   ]
  },
  {
   "cell_type": "markdown",
   "id": "c61c7f51",
   "metadata": {},
   "source": [
    "**Triple-Quoted Strings**\n",
    "\n",
    "* Escape sequences still work in triple-quoted strings, but single quotes, double quotes, and newlines can be included without escaping them. \n",
    "* This provides a convenient way to create a string with both single and double quotes in it:\n"
   ]
  },
  {
   "cell_type": "code",
   "execution_count": null,
   "id": "50f86d26",
   "metadata": {},
   "outputs": [],
   "source": [
    "print('''This string has a single (') and a double (\") quote.''')"
   ]
  },
  {
   "cell_type": "markdown",
   "id": "092e111d",
   "metadata": {},
   "source": [
    "    This string has a single (') and a double (\") quote.\n",
    "    \n"
   ]
  },
  {
   "cell_type": "code",
   "execution_count": null,
   "id": "76759a03",
   "metadata": {},
   "outputs": [],
   "source": [
    "print(\"\"\"This is a\n",
    "string that spans\n",
    "across several lines\"\"\")\n",
    "# this also allows for multiline strings:"
   ]
  },
  {
   "cell_type": "markdown",
   "id": "6b201436",
   "metadata": {},
   "source": [
    "    This is a\n",
    "    string that spans\n",
    "    across several lines"
   ]
  },
  {
   "cell_type": "markdown",
   "id": "9a420bfc",
   "metadata": {},
   "source": [
    "https://towardsdatascience.com/useful-string-methods-in-python-5047ea4d3f90  \n",
    "\n",
    "**Python Syntax:**  \n",
    "https://www.codecademy.com/learn/learn-python-3/modules/learn-python3-syntax/reference  \n",
    "\n",
    "### Date and Time\n",
    "\n",
    "A date in Python is not a data type of its own, but we can import a module named datetime to work with dates as date objects.\n"
   ]
  },
  {
   "cell_type": "code",
   "execution_count": null,
   "id": "8c3d4e5f",
   "metadata": {},
   "outputs": [],
   "source": [
    "import datetime\n",
    "\n",
    "x = datetime.datetime.now()\n",
    "print(x)"
   ]
  },
  {
   "cell_type": "markdown",
   "id": "7552efb1",
   "metadata": {},
   "source": [
    "    2019-03-07 10:33:50.931781\n",
    "    \n"
   ]
  },
  {
   "cell_type": "code",
   "execution_count": null,
   "id": "27b68c1a",
   "metadata": {},
   "outputs": [],
   "source": [
    "print(x.year)"
   ]
  },
  {
   "cell_type": "markdown",
   "id": "f76af32e",
   "metadata": {},
   "source": [
    "    2019\n",
    "    \n"
   ]
  },
  {
   "cell_type": "code",
   "execution_count": null,
   "id": "ce544477",
   "metadata": {},
   "outputs": [],
   "source": [
    "# strftime is a method for formatting date objects into readable strings.\n",
    "print(x.strftime(\"%A\"))\n",
    "# it takes one parameter called format\n",
    "# http://strftime.org/"
   ]
  },
  {
   "cell_type": "markdown",
   "id": "253eeba7",
   "metadata": {},
   "source": [
    "    Thursday\n",
    "    \n"
   ]
  },
  {
   "cell_type": "code",
   "execution_count": null,
   "id": "1565f601",
   "metadata": {},
   "outputs": [],
   "source": [
    "# Create a date object\n",
    "x = datetime.datetime(2020, 5, 17)\n",
    "print(x)"
   ]
  },
  {
   "cell_type": "markdown",
   "id": "b1fa2d30",
   "metadata": {},
   "source": [
    "    2020-05-17 00:00:00"
   ]
  },
  {
   "cell_type": "markdown",
   "id": "4d7009cb",
   "metadata": {},
   "source": [
    "https://www.guru99.com/date-time-and-datetime-classes-in-python.html  \n",
    "https://dzone.com/articles/python-101-working-with-dates-and-time  \n",
    "\n",
    "## Data Structures \n",
    "(Non-primitive data structures)\n",
    "\n",
    "Non-primitive types are the sophisticated members of the data structure family. They don't just store a value, but rather a collection of values in various formats.\n",
    "\n",
    "### Composite Data Types\n",
    "\n",
    "#### Lists\n",
    "\n",
    "* General purpose\n",
    "* Most widely used data structures\n",
    "* contain any type of objects\n",
    "* similar to arrays\n",
    "* can be extended or reduce the size as we needed\n",
    "* Sequence type\n",
    "* sortable\n",
    "* declare them using square brackets separated with commas of each value/item\n",
    "* Better to use this object for list of values which we need some flexibility to add/remove/sort/reverse/delete...etc operations.\n",
    "\n",
    "> **Example:** \n",
    "* List of employees in your department\n",
    "* List of stocks you want to analyze\n",
    "A = [ ] # This is a blank list variable\n",
    "B = [1, 23, 45, 67] # this list creates an initial list of 4 numbers.\n",
    "C = [2, 4, 'john'] # lists can contain different variable types."
   ]
  },
  {
   "cell_type": "code",
   "execution_count": null,
   "id": "f7cf3936",
   "metadata": {
    "lines_to_next_cell": 0
   },
   "outputs": [],
   "source": [
    "[1,2,3]"
   ]
  },
  {
   "cell_type": "markdown",
   "id": "089e2699",
   "metadata": {
    "lines_to_next_cell": 0
   },
   "source": [
    "\n",
    "\n",
    "\n",
    "\n",
    "    [1, 2, 3]\n",
    "\n",
    "\n",
    "\n"
   ]
  },
  {
   "cell_type": "code",
   "execution_count": null,
   "id": "5d299762",
   "metadata": {
    "lines_to_next_cell": 0
   },
   "outputs": [],
   "source": [
    "['hi',1,[1,2]]"
   ]
  },
  {
   "cell_type": "markdown",
   "id": "48dc34d4",
   "metadata": {
    "lines_to_next_cell": 0
   },
   "source": [
    "\n",
    "\n",
    "\n",
    "\n",
    "    ['hi', 1, [1, 2]]\n",
    "\n",
    "\n",
    "\n"
   ]
  },
  {
   "cell_type": "code",
   "execution_count": null,
   "id": "15c5282c",
   "metadata": {
    "lines_to_next_cell": 2
   },
   "outputs": [],
   "source": [
    "my_list = ['a','b','c']"
   ]
  },
  {
   "cell_type": "code",
   "execution_count": null,
   "id": "92bd7ac3",
   "metadata": {
    "lines_to_next_cell": 2
   },
   "outputs": [],
   "source": [
    "my_list.append('d')"
   ]
  },
  {
   "cell_type": "code",
   "execution_count": null,
   "id": "40d6a012",
   "metadata": {
    "lines_to_next_cell": 0
   },
   "outputs": [],
   "source": [
    "my_list"
   ]
  },
  {
   "cell_type": "markdown",
   "id": "02ca4798",
   "metadata": {
    "lines_to_next_cell": 0
   },
   "source": [
    "\n",
    "\n",
    "\n",
    "\n",
    "    ['a', 'b', 'c', 'd']\n",
    "\n",
    "\n",
    "\n"
   ]
  },
  {
   "cell_type": "code",
   "execution_count": null,
   "id": "cdccd233",
   "metadata": {
    "lines_to_next_cell": 0
   },
   "outputs": [],
   "source": [
    "my_list[0]"
   ]
  },
  {
   "cell_type": "markdown",
   "id": "645a7ab4",
   "metadata": {
    "lines_to_next_cell": 0
   },
   "source": [
    "\n",
    "\n",
    "\n",
    "\n",
    "    'a'\n",
    "\n",
    "\n",
    "\n"
   ]
  },
  {
   "cell_type": "code",
   "execution_count": null,
   "id": "eae7494d",
   "metadata": {
    "lines_to_next_cell": 0
   },
   "outputs": [],
   "source": [
    "my_list[1]"
   ]
  },
  {
   "cell_type": "markdown",
   "id": "69fe4bc4",
   "metadata": {
    "lines_to_next_cell": 0
   },
   "source": [
    "\n",
    "\n",
    "\n",
    "\n",
    "    'b'\n",
    "\n",
    "\n",
    "\n"
   ]
  },
  {
   "cell_type": "code",
   "execution_count": null,
   "id": "105ae3de",
   "metadata": {
    "lines_to_next_cell": 0
   },
   "outputs": [],
   "source": [
    "my_list[1:]"
   ]
  },
  {
   "cell_type": "markdown",
   "id": "971e039c",
   "metadata": {
    "lines_to_next_cell": 0
   },
   "source": [
    "\n",
    "\n",
    "\n",
    "\n",
    "    ['b', 'c', 'd']\n",
    "\n",
    "\n",
    "\n"
   ]
  },
  {
   "cell_type": "code",
   "execution_count": null,
   "id": "109b1c47",
   "metadata": {
    "lines_to_next_cell": 0
   },
   "outputs": [],
   "source": [
    "my_list[:1]"
   ]
  },
  {
   "cell_type": "markdown",
   "id": "e3771fbd",
   "metadata": {
    "lines_to_next_cell": 0
   },
   "source": [
    "\n",
    "\n",
    "\n",
    "\n",
    "    ['a']\n",
    "\n",
    "\n",
    "\n"
   ]
  },
  {
   "cell_type": "code",
   "execution_count": null,
   "id": "2ce637a8",
   "metadata": {
    "lines_to_next_cell": 2
   },
   "outputs": [],
   "source": [
    "my_list[0] = 'NEW'"
   ]
  },
  {
   "cell_type": "code",
   "execution_count": null,
   "id": "3592e8cc",
   "metadata": {
    "lines_to_next_cell": 0
   },
   "outputs": [],
   "source": [
    "my_list"
   ]
  },
  {
   "cell_type": "markdown",
   "id": "21fd9105",
   "metadata": {
    "lines_to_next_cell": 0
   },
   "source": [
    "\n",
    "\n",
    "\n",
    "\n",
    "    ['NEW', 'b', 'c', 'd']\n",
    "\n",
    "\n",
    "\n"
   ]
  },
  {
   "cell_type": "code",
   "execution_count": null,
   "id": "e3aade29",
   "metadata": {},
   "outputs": [],
   "source": [
    "mylist = ['Rhino', 'Grasshopper', 'Flamingo', 'Bongo']\n",
    "B = len(mylist) # This will return the length of the list which is 3. The index is 0, 1, 2, 3.\n",
    "print (mylist[1]) # This will return the value at index 1, which is 'Grasshopper'\n",
    "print (mylist[0:2]) # This will return the first 2 elements in the list."
   ]
  },
  {
   "cell_type": "markdown",
   "id": "68453a80",
   "metadata": {},
   "source": [
    "    Grasshopper\n",
    "    ['Rhino', 'Grasshopper']\n",
    "    \n"
   ]
  },
  {
   "cell_type": "code",
   "execution_count": null,
   "id": "3c087925",
   "metadata": {
    "lines_to_next_cell": 2
   },
   "outputs": [],
   "source": [
    "nest = [1,2,3,[4,5,['target']]]"
   ]
  },
  {
   "cell_type": "code",
   "execution_count": null,
   "id": "6d2647c6",
   "metadata": {
    "lines_to_next_cell": 0
   },
   "outputs": [],
   "source": [
    "nest[3]"
   ]
  },
  {
   "cell_type": "markdown",
   "id": "b4674be9",
   "metadata": {
    "lines_to_next_cell": 0
   },
   "source": [
    "\n",
    "\n",
    "\n",
    "\n",
    "    [4, 5, ['target']]\n",
    "\n",
    "\n",
    "\n"
   ]
  },
  {
   "cell_type": "code",
   "execution_count": null,
   "id": "4841cb15",
   "metadata": {
    "lines_to_next_cell": 0
   },
   "outputs": [],
   "source": [
    "nest[3][2]"
   ]
  },
  {
   "cell_type": "markdown",
   "id": "ec496fa7",
   "metadata": {
    "lines_to_next_cell": 0
   },
   "source": [
    "\n",
    "\n",
    "\n",
    "\n",
    "    ['target']\n",
    "\n",
    "\n",
    "\n"
   ]
  },
  {
   "cell_type": "code",
   "execution_count": null,
   "id": "cd05918d",
   "metadata": {
    "lines_to_next_cell": 0
   },
   "outputs": [],
   "source": [
    "nest[3][2][0]"
   ]
  },
  {
   "cell_type": "markdown",
   "id": "03485c65",
   "metadata": {},
   "source": [
    "\n",
    "\n",
    "\n",
    "\n",
    "    'target'\n",
    "\n",
    "\n",
    "\n",
    "nest[3][2][0].upper()\n"
   ]
  },
  {
   "cell_type": "code",
   "execution_count": null,
   "id": "d8ef51e5",
   "metadata": {},
   "outputs": [],
   "source": [
    "# assign data to a specific element of the list using an index into the list.\n",
    "mylist = [0, 1, 2, 3]\n",
    "mylist[0] = 'Rhino'\n",
    "mylist[1] = 'Grasshopper'\n",
    "mylist[2] = 'Flamingo'\n",
    "mylist[3] = 'Bongo'\n",
    "print (mylist[1])"
   ]
  },
  {
   "cell_type": "markdown",
   "id": "d8722db2",
   "metadata": {},
   "source": [
    "    Grasshopper"
   ]
  },
  {
   "cell_type": "markdown",
   "id": "f7f1db97",
   "metadata": {},
   "source": [
    "The + operator concatenates lists:\n"
   ]
  },
  {
   "cell_type": "code",
   "execution_count": null,
   "id": "60c85739",
   "metadata": {},
   "outputs": [],
   "source": [
    "a = [1, 2, 3]\n",
    "b = [4, 5, 6]\n",
    "c = a + b  # \n",
    "print(c)"
   ]
  },
  {
   "cell_type": "markdown",
   "id": "7b02212a",
   "metadata": {},
   "source": [
    "    [1, 2, 3, 4, 5, 6]"
   ]
  },
  {
   "cell_type": "markdown",
   "id": "ca7f44c0",
   "metadata": {},
   "source": [
    "Similarly, the * operator repeats a list a given number of times:\n"
   ]
  },
  {
   "cell_type": "code",
   "execution_count": null,
   "id": "905ceb1f",
   "metadata": {
    "lines_to_next_cell": 0
   },
   "outputs": [],
   "source": [
    " \n",
    "[0] * 4"
   ]
  },
  {
   "cell_type": "markdown",
   "id": "b40a6de2",
   "metadata": {
    "lines_to_next_cell": 0
   },
   "source": [
    "\n",
    "\n",
    "\n",
    "\n",
    "    [0, 0, 0, 0]\n",
    "\n",
    "\n",
    "\n"
   ]
  },
  {
   "cell_type": "code",
   "execution_count": null,
   "id": "f07c0801",
   "metadata": {
    "lines_to_next_cell": 0
   },
   "outputs": [],
   "source": [
    "[1, 2, 3] * 3  # The first example repeats [0] four times. The second example repeats the list [1, 2, 3] three times."
   ]
  },
  {
   "cell_type": "markdown",
   "id": "b20c942d",
   "metadata": {},
   "source": [
    "\n",
    "\n",
    "\n",
    "\n",
    "    [1, 2, 3, 1, 2, 3, 1, 2, 3]\n",
    "\n",
    "\n",
    "\n",
    "**The Difference Between “is” and “==” in Python**\n"
   ]
  },
  {
   "cell_type": "code",
   "execution_count": null,
   "id": "76fe33ab",
   "metadata": {
    "lines_to_next_cell": 0
   },
   "outputs": [],
   "source": [
    "a = 'banana'\n",
    "b = 'banana'\n",
    "a is b"
   ]
  },
  {
   "cell_type": "markdown",
   "id": "9a208a39",
   "metadata": {
    "lines_to_next_cell": 0
   },
   "source": [
    "\n",
    "\n",
    "\n",
    "\n",
    "    True\n",
    "\n",
    "\n",
    "\n"
   ]
  },
  {
   "cell_type": "code",
   "execution_count": null,
   "id": "933ea759",
   "metadata": {
    "lines_to_next_cell": 0
   },
   "outputs": [],
   "source": [
    "a = [1, 2, 3]\n",
    "b = [1, 2, 3]\n",
    "a is b"
   ]
  },
  {
   "cell_type": "markdown",
   "id": "a70b621e",
   "metadata": {},
   "source": [
    "\n",
    "\n",
    "\n",
    "\n",
    "    False\n",
    "\n",
    "\n",
    "\n",
    "**What does [::-1} do?**\n"
   ]
  },
  {
   "cell_type": "code",
   "execution_count": null,
   "id": "80cdbb10",
   "metadata": {
    "lines_to_next_cell": 0
   },
   "outputs": [],
   "source": [
    "l = [1,2,3,4,5]\n",
    "l[::-1] # reverse the order of list"
   ]
  },
  {
   "cell_type": "markdown",
   "id": "ac02cd53",
   "metadata": {},
   "source": [
    "\n",
    "\n",
    "\n",
    "\n",
    "    [5, 4, 3, 2, 1]\n",
    "\n",
    "\n",
    "\n",
    "follow along:  https://dbader.org/blog/difference-between-is-and-equals-in-python  \n",
    "https://medium.com/@tyastropheus/tricky-python-i-memory-management-for-mutable-immutable-objects-21507d1e5b95  \n",
    "\n",
    "**Built-in Functions with List**"
   ]
  },
  {
   "cell_type": "markdown",
   "id": "147615f2",
   "metadata": {},
   "source": [
    "| Function    | Description                                                                                       |\n",
    "|-------------|---------------------------------------------------------------------------------------------------|\n",
    "| any()       | Return True if any element of the list is true. If the list is empty, return False.               |\n",
    "| all()       | Returns `True` if all elements of an iterable are true                  \t                      |\n",
    "| len()       |   Return the length (the number of items) in the list.                                            |\n",
    "| list()      | Convert an iterable (tuple, string, set, dictionary) to a list.                                   |\n",
    "| max()       | Return the largest item in the list.                                                              |\n",
    "| min()       | Return the smallest item in the list                                                              |\n",
    "| sorted()    |   Return a new sorted list (does not sort the list itself).                                       |\n",
    "| reversed()  | Returns a reverse iterator                                              \t|                     \n",
    "| sum()       | Return the sum of all elements in the list.                                                       |\n"
   ]
  },
  {
   "cell_type": "code",
   "execution_count": null,
   "id": "f62cefed",
   "metadata": {},
   "outputs": [],
   "source": [
    "x = [True, True, False]\n",
    "if any(x):\n",
    "    print(\"At least one True\")\n",
    "if all(x):\n",
    "    print(\"Not one False\")\n",
    "if any(x) and not all(x):    \n",
    "    print(\"At least one True and one False\")"
   ]
  },
  {
   "cell_type": "markdown",
   "id": "abd1abb8",
   "metadata": {},
   "source": [
    "    At least one True\n",
    "    At least one True and one False"
   ]
  },
  {
   "cell_type": "markdown",
   "id": "63bbeff2",
   "metadata": {},
   "source": [
    "**Python list Methods**\n",
    "\n",
    "| Methods       | Functions                                                |\n",
    "|---------------|----------------------------------------------------------|\n",
    "| append()      | to add element to the end of the list                    |\n",
    "| extend()      | to extend all elements of a list to the another list     |\n",
    "| insert()      | to insert an element at the another index                |\n",
    "| remove()      | to remove an element from the list                       |\n",
    "| pop()         | to remove elements return element at the given index     |\n",
    "| clear()       | to remove all elements from the list                     |\n",
    "| index()       | to return the index of the first matched element         |\n",
    "| count()       | to count of number of elements passed as an argument     |\n",
    "| sort()        | to sort the elements in ascending order by default       |\n",
    "| reverse()     | to reverse order element in a list                       |\n",
    "| copy()        | to return a copy of elements in a list                   |\n",
    "\n",
    "**`copy()` method vs direct assignment**\n"
   ]
  },
  {
   "cell_type": "code",
   "execution_count": null,
   "id": "ca2d4677",
   "metadata": {},
   "outputs": [],
   "source": [
    "l1 = [1,2,3,4]\n",
    "l2 = l1\n",
    "print(id(l1))\n",
    "print(id(l2))"
   ]
  },
  {
   "cell_type": "markdown",
   "id": "6d77810a",
   "metadata": {},
   "source": [
    "    140488771147336\n",
    "    140488771147336\n",
    "    \n"
   ]
  },
  {
   "cell_type": "code",
   "execution_count": null,
   "id": "eee8f51d",
   "metadata": {},
   "outputs": [],
   "source": [
    "l1.append(999)\n",
    "print(l2)"
   ]
  },
  {
   "cell_type": "markdown",
   "id": "7b024b15",
   "metadata": {},
   "source": [
    "    [1, 2, 3, 4, 999]\n",
    "    \n"
   ]
  },
  {
   "cell_type": "code",
   "execution_count": null,
   "id": "7cbe80f0",
   "metadata": {},
   "outputs": [],
   "source": [
    "l1 = [1,2,3,4]\n",
    "l2 = l1.copy()\n",
    "print(id(l1))\n",
    "print(id(l2))"
   ]
  },
  {
   "cell_type": "markdown",
   "id": "4f4eea00",
   "metadata": {},
   "source": [
    "    140488767397832\n",
    "    140488771825864\n",
    "    \n"
   ]
  },
  {
   "cell_type": "code",
   "execution_count": null,
   "id": "1d6d0725",
   "metadata": {},
   "outputs": [],
   "source": [
    "l1.append(999)\n",
    "print(l2)"
   ]
  },
  {
   "cell_type": "markdown",
   "id": "1026d64b",
   "metadata": {},
   "source": [
    "    [1, 2, 3, 4]"
   ]
  },
  {
   "cell_type": "markdown",
   "id": "7a3ca185",
   "metadata": {},
   "source": [
    "https://developers.google.com/edu/python/lists  \n",
    "http://thepythonguru.com/python-lists/  \n",
    "https://www.tutorialspoint.com/python/python_lists.htm\n",
    "\n",
    "#### Tuples\n",
    "\n",
    "* Immutable (we cannot change its content after creation)\n",
    "* Better for fixed data\n",
    "* useful to share the data with someone but not allow them to manipulate\n",
    "* use the data values for arithmatic operations, however the changes is not reflected in the original data\n",
    "* contain any type of objects (heterogeneous container for items) \n",
    "* similar to arrays\n",
    "* faster compare with the lists\n",
    "* sequencey type\n",
    "* To declare tuples we use parentheses.\n",
    "* Unlike Python lists, tuples does not have methods such as `append()`, `remove()`, `extend()`, `insert()` and `pop()` due to its immutable nature. However, there are many other built-in methods to work with tuple \n",
    "* Better to use this object for a list of values which order really matters when there is no need to add/delete those items\n",
    "\n",
    "> **Example:** \n",
    "* List of months, or weekdays..etc\n",
    "* List of top 10 sales regions in a quarter\n"
   ]
  },
  {
   "cell_type": "code",
   "execution_count": null,
   "id": "b6751a7f",
   "metadata": {},
   "outputs": [],
   "source": [
    "t = (1,2,3)"
   ]
  },
  {
   "cell_type": "markdown",
   "id": "0d469754",
   "metadata": {},
   "source": [
    "t[0]\n",
    "\n",
    "`t[0] = 'NEW' # not mutable for tuples`\n",
    "```{python}\n",
    "---------------------------------------------------------------------------\n",
    "TypeError                                 Traceback (most recent call last)\n",
    "<ipython-input-212-9650bd97cc9a> in <module>()\n",
    "----> 1 t[0] = 'NEW' # not mutable for tuples\n",
    "\n",
    "TypeError: 'tuple' object does not support item assignment\n",
    "```\n"
   ]
  },
  {
   "cell_type": "code",
   "execution_count": null,
   "id": "fa8a2cbd",
   "metadata": {},
   "outputs": [],
   "source": [
    "# real world example\n",
    "# works better in spyder tool\n",
    "\"\"\" Where's My Mouse? \"\"\"\n",
    "import tkinter\n",
    "\n",
    "def mouse_click(event):\n",
    "\n",
    "    # retrieve XY coords as a tuple\n",
    "    coords = root.winfo_pointerxy()\n",
    "    print('coords: {}'.format(coords))\n",
    "    print('X: {}'.format(coords[0]))\n",
    "    print('Y: {}'.format(coords[1]))\n",
    "    print(type(coords))\n",
    "\n",
    "root = tkinter.Tk()\n",
    "root.bind('<Button>', mouse_click)\n",
    "root.mainloop()"
   ]
  },
  {
   "cell_type": "markdown",
   "id": "d722390f",
   "metadata": {},
   "source": [
    "https://data-flair.training/blogs/python-tuples-syntax-examples/   \n",
    "http://thepythonguru.com/python-tuples/  \n",
    "\n",
    "### Collection data types\n",
    "\n",
    "#### Dictionaries\n",
    "\n",
    "* Each item is a pair of a key and value\n",
    "* It holds word-meaning pairs just like real dictionaries \n",
    "* Un ordered\n",
    "* Dictionaries are not sorted\n",
    "* Access to the list of keys or values independently.\n",
    "* To declare a dictionary, we use curly braces.\n",
    "* Better to use this object for unordered storage of values which are associated with some keys \n",
    "\n",
    "> **Examples:** \n",
    "* Employee name associated with Employee ID   \n",
    "* Order status of online food\n"
   ]
  },
  {
   "cell_type": "code",
   "execution_count": null,
   "id": "bf19c57e",
   "metadata": {
    "lines_to_next_cell": 2
   },
   "outputs": [],
   "source": [
    "room_num = {'john': 425, 'tom': 212}\n",
    "room_num['john'] = 645  # set the value associated with the 'john' key to 645"
   ]
  },
  {
   "cell_type": "code",
   "execution_count": null,
   "id": "140ab6d2",
   "metadata": {},
   "outputs": [],
   "source": [
    "print(room_num)"
   ]
  },
  {
   "cell_type": "markdown",
   "id": "4f806225",
   "metadata": {},
   "source": [
    "    {'tom': 212, 'john': 645}\n",
    "    \n"
   ]
  },
  {
   "cell_type": "code",
   "execution_count": null,
   "id": "4b571a79",
   "metadata": {
    "lines_to_next_cell": 2
   },
   "outputs": [],
   "source": [
    "room_num['james'] = 925"
   ]
  },
  {
   "cell_type": "code",
   "execution_count": null,
   "id": "bf66b99b",
   "metadata": {},
   "outputs": [],
   "source": [
    "print(room_num)"
   ]
  },
  {
   "cell_type": "markdown",
   "id": "6d998236",
   "metadata": {},
   "source": [
    "    {'james': 925, 'tom': 212, 'john': 645}\n",
    "    \n"
   ]
  },
  {
   "cell_type": "code",
   "execution_count": null,
   "id": "5cc4375c",
   "metadata": {
    "lines_to_next_cell": 0
   },
   "outputs": [],
   "source": [
    "room_num.keys()"
   ]
  },
  {
   "cell_type": "markdown",
   "id": "363ec206",
   "metadata": {
    "lines_to_next_cell": 0
   },
   "source": [
    "\n",
    "\n",
    "\n",
    "\n",
    "    dict_keys(['james', 'tom', 'john'])\n",
    "\n",
    "\n",
    "\n"
   ]
  },
  {
   "cell_type": "code",
   "execution_count": null,
   "id": "f9ba62ec",
   "metadata": {
    "lines_to_next_cell": 0
   },
   "outputs": [],
   "source": [
    "room_num.values()\n"
   ]
  },
  {
   "cell_type": "markdown",
   "id": "c4432f54",
   "metadata": {
    "lines_to_next_cell": 0
   },
   "source": [
    "\n",
    "\n",
    "\n",
    "\n",
    "    dict_values([925, 212, 645])\n",
    "\n",
    "\n",
    "\n"
   ]
  },
  {
   "cell_type": "code",
   "execution_count": null,
   "id": "4a8f4eb7",
   "metadata": {
    "lines_to_next_cell": 0
   },
   "outputs": [],
   "source": [
    "room_num.items()"
   ]
  },
  {
   "cell_type": "markdown",
   "id": "427a9449",
   "metadata": {
    "lines_to_next_cell": 0
   },
   "source": [
    "\n",
    "\n",
    "\n",
    "\n",
    "    dict_items([('james', 925), ('tom', 212), ('john', 645)])\n",
    "\n",
    "\n",
    "\n"
   ]
  },
  {
   "cell_type": "code",
   "execution_count": null,
   "id": "bc2afa3a",
   "metadata": {
    "lines_to_next_cell": 0
   },
   "outputs": [],
   "source": [
    "room_num.pop('james') # takes key as parameter and return corresponding value "
   ]
  },
  {
   "cell_type": "markdown",
   "id": "83e14e8d",
   "metadata": {
    "lines_to_next_cell": 0
   },
   "source": [
    "\n",
    "\n",
    "\n",
    "\n",
    "    925\n",
    "\n",
    "\n",
    "\n"
   ]
  },
  {
   "cell_type": "code",
   "execution_count": null,
   "id": "d619f69c",
   "metadata": {
    "lines_to_next_cell": 0
   },
   "outputs": [],
   "source": [
    "room_num"
   ]
  },
  {
   "cell_type": "markdown",
   "id": "c1b1fced",
   "metadata": {
    "lines_to_next_cell": 0
   },
   "source": [
    "\n",
    "\n",
    "\n",
    "\n",
    "    {'john': 645, 'tom': 212}\n",
    "\n",
    "\n",
    "\n"
   ]
  },
  {
   "cell_type": "code",
   "execution_count": null,
   "id": "fc3eb40d",
   "metadata": {
    "lines_to_next_cell": 0
   },
   "outputs": [],
   "source": [
    "room_num.popitem() # doesn't take any parameter and gives some arbitrary element as (key, value) tuple "
   ]
  },
  {
   "cell_type": "markdown",
   "id": "635c3be4",
   "metadata": {
    "lines_to_next_cell": 0
   },
   "source": [
    "\n",
    "\n",
    "\n",
    "\n",
    "    ('tom', 212)\n",
    "\n",
    "\n",
    "\n"
   ]
  },
  {
   "cell_type": "code",
   "execution_count": null,
   "id": "fdf700ab",
   "metadata": {
    "lines_to_next_cell": 0
   },
   "outputs": [],
   "source": [
    "room_num"
   ]
  },
  {
   "cell_type": "markdown",
   "id": "f2747c4c",
   "metadata": {
    "lines_to_next_cell": 0
   },
   "source": [
    "\n",
    "\n",
    "\n",
    "\n",
    "    {'john': 645}\n",
    "\n",
    "\n",
    "\n"
   ]
  },
  {
   "cell_type": "code",
   "execution_count": null,
   "id": "a2109913",
   "metadata": {},
   "outputs": [],
   "source": [
    "room_num['isaac'] = 345 # Add a new key 'isaac' with the associated value\n",
    "print (room_num.keys()) # print out a list of keys in the dictionary\n",
    "print ('isaac' in room_num) # test to asee if 'issac' is in the dictionary.  This returns true."
   ]
  },
  {
   "cell_type": "markdown",
   "id": "8e708c3b",
   "metadata": {},
   "source": [
    "    dict_keys(['isaac', 'john'])\n",
    "    True\n",
    "    \n"
   ]
  },
  {
   "cell_type": "code",
   "execution_count": null,
   "id": "ac6d3321",
   "metadata": {
    "lines_to_next_cell": 2
   },
   "outputs": [],
   "source": [
    "d = {'key1':'value1','key2':'value2'}"
   ]
  },
  {
   "cell_type": "code",
   "execution_count": null,
   "id": "8721d5a1",
   "metadata": {
    "lines_to_next_cell": 0
   },
   "outputs": [],
   "source": [
    "d"
   ]
  },
  {
   "cell_type": "markdown",
   "id": "66234c76",
   "metadata": {
    "lines_to_next_cell": 0
   },
   "source": [
    "\n",
    "\n",
    "\n",
    "\n",
    "    {'key1': 'item1', 'key2': 'item2'}\n",
    "\n",
    "\n",
    "\n"
   ]
  },
  {
   "cell_type": "code",
   "execution_count": null,
   "id": "ca8c6e5f",
   "metadata": {
    "lines_to_next_cell": 0
   },
   "outputs": [],
   "source": [
    "d['key1']"
   ]
  },
  {
   "cell_type": "markdown",
   "id": "01cc1a65",
   "metadata": {},
   "source": [
    "\n",
    "\n",
    "\n",
    "\n",
    "    'item1'\n",
    "\n",
    "\n",
    "\n",
    "https://www.tutorialspoint.com/python/python_dictionary.htm  \n",
    "http://thepythonguru.com/python-dictionaries/    \n",
    "https://realpython.com/python-dicts/    \n",
    "\n",
    "#### Sets\n",
    "\n",
    "* Python set is much like a mathematical set theory in that it has well-defined collection of distinct objects\n",
    "* The objects of a set are called its “elements”.\n",
    "* Sets are unordered collections of unique elements. Duplicates are not allowed.\n",
    "* very fast access vs lists\n",
    "* A set itself may be modified, but the elements contained in the set must be of an immutable type (eg. it might be a tuple but not a list type).\n",
    "* Python provides us with a list of functions and methods like `discard()`, `pop()`, `clear()`, `remove()`, `add()`, and more. Functions like `len()` and `max()` also apply on sets.\n",
    "* It is sequenced (automatically while printing), but does not support indexing.\n",
    "* To declare a set, write a sequence of items separated with commas, inside curly braces.\n",
    "* Better to use this object a collection of sets which needs to membership or mapping really matters\n"
   ]
  },
  {
   "cell_type": "code",
   "execution_count": null,
   "id": "67194d29",
   "metadata": {
    "lines_to_next_cell": 0
   },
   "outputs": [],
   "source": [
    "{1,2,3}"
   ]
  },
  {
   "cell_type": "markdown",
   "id": "7bba9dcd",
   "metadata": {},
   "source": [
    "\n",
    "\n",
    "\n",
    "\n",
    "    {1, 2, 3}\n",
    "\n",
    "\n",
    "\n",
    "**Adding Elements to a Set**  \n",
    "* sets are mutable – but since they are unordered, indexes would not make any sense to it. We will not be able to access or update an element based on the index of an element in a set, as set does not support both indexing and slicing.   \n",
    "* we can use the `add()` method to add a single element if we need to add more than one element to a set, we can use the `update()` method\n"
   ]
  },
  {
   "cell_type": "code",
   "execution_count": null,
   "id": "e5cff117",
   "metadata": {},
   "outputs": [],
   "source": [
    "# creating a set\n",
    "a = {1, 3, 5, 7, 11, 13}\n",
    "b = set([1, 3, 5, 7, 11, 13])"
   ]
  },
  {
   "cell_type": "markdown",
   "id": "246fcb4e",
   "metadata": {},
   "source": [
    "**Set Operations on Sets**\n",
    "\n",
    "* Union\n",
    "* Intersection\n",
    "* Difference\n",
    "* Symmetric Difference\n"
   ]
  },
  {
   "cell_type": "code",
   "execution_count": null,
   "id": "c7ba0477",
   "metadata": {},
   "outputs": [],
   "source": [
    "# Union\n",
    "A = {1, 2, 3, 4}\n",
    "B = {3, 4, 5, 6}\n",
    "print ( A | B)"
   ]
  },
  {
   "cell_type": "markdown",
   "id": "55998646",
   "metadata": {},
   "source": [
    "    {1, 2, 3, 4, 5, 6}\n",
    "    \n"
   ]
  },
  {
   "cell_type": "code",
   "execution_count": null,
   "id": "a3b57783",
   "metadata": {},
   "outputs": [],
   "source": [
    "# Intersection\n",
    "A = {1, 2, 3, 4}\n",
    "B = {3, 4, 5, 6}\n",
    "print ( A & B )"
   ]
  },
  {
   "cell_type": "markdown",
   "id": "6febaed3",
   "metadata": {},
   "source": [
    "    {3, 4}\n",
    "    \n"
   ]
  },
  {
   "cell_type": "code",
   "execution_count": null,
   "id": "02d9250a",
   "metadata": {},
   "outputs": [],
   "source": [
    "# Difference\n",
    "A = {1, 2, 3, 4, 5}\n",
    "B = {4, 5, 6, 7, 8}\n",
    "print(A - B)"
   ]
  },
  {
   "cell_type": "markdown",
   "id": "020dd9d0",
   "metadata": {},
   "source": [
    "    {1, 2, 3}\n",
    "    \n"
   ]
  },
  {
   "cell_type": "code",
   "execution_count": null,
   "id": "fb5d6f6c",
   "metadata": {},
   "outputs": [],
   "source": [
    "# Symmetric Difference\n",
    "A = {1, 2, 3, 4, 5}\n",
    "B = {4, 5, 6, 7, 8}\n",
    "print(A ^ B)"
   ]
  },
  {
   "cell_type": "markdown",
   "id": "38fec1b1",
   "metadata": {},
   "source": [
    "    {1, 2, 3, 6, 7, 8}"
   ]
  },
  {
   "cell_type": "markdown",
   "id": "401150a4",
   "metadata": {},
   "source": [
    "**Adding element/s to a set**\n"
   ]
  },
  {
   "cell_type": "code",
   "execution_count": null,
   "id": "a1316a5f",
   "metadata": {},
   "outputs": [],
   "source": [
    "a.add(8)\n",
    "print(a)\n",
    "b.update([5,2,14,7])\n",
    "print(b)"
   ]
  },
  {
   "cell_type": "markdown",
   "id": "35e59ace",
   "metadata": {},
   "source": [
    "    {1, 3, 5, 7, 8, 11, 13}\n",
    "    {1, 2, 3, 5, 7, 11, 13, 14}\n",
    "    \n"
   ]
  },
  {
   "cell_type": "code",
   "execution_count": null,
   "id": "b6ca817c",
   "metadata": {},
   "outputs": [],
   "source": [
    "# initialize my_set\n",
    "my_set = {1,3}\n",
    "print(my_set)\n",
    "\n",
    "# add list and set\n",
    "# Output: {1, 2, 3, 4, 5, 6, 8}\n",
    "my_set.update([4,5], {1,6,8})\n",
    "print(my_set)\n",
    "\n",
    "# if you uncomment below line\n",
    "# you will get an error\n",
    "# TypeError: 'set' object does not support indexing\n",
    "\n",
    "#my_set[0]"
   ]
  },
  {
   "cell_type": "markdown",
   "id": "bc2637ea",
   "metadata": {},
   "source": [
    "    {1, 3}\n",
    "    {1, 3, 4, 5, 6, 8}"
   ]
  },
  {
   "cell_type": "markdown",
   "id": "293c228f",
   "metadata": {},
   "source": [
    "**Remove Elements From a Set**\n",
    "\n",
    "`discard()`    \n",
    "This method takes the item to delete as an argument.\n",
    "* deleting an item that doesn’t exist in the set, discard() ignores it\n"
   ]
  },
  {
   "cell_type": "code",
   "execution_count": null,
   "id": "feae2258",
   "metadata": {
    "lines_to_next_cell": 2
   },
   "outputs": [],
   "source": [
    "num = {13,12,21,43,16,25}"
   ]
  },
  {
   "cell_type": "code",
   "execution_count": null,
   "id": "6c505c63",
   "metadata": {
    "lines_to_next_cell": 2
   },
   "outputs": [],
   "source": [
    "num.discard(3)"
   ]
  },
  {
   "cell_type": "code",
   "execution_count": null,
   "id": "dd9ced60",
   "metadata": {
    "lines_to_next_cell": 0
   },
   "outputs": [],
   "source": [
    "num"
   ]
  },
  {
   "cell_type": "markdown",
   "id": "514a711d",
   "metadata": {},
   "source": [
    "\n",
    "\n",
    "\n",
    "\n",
    "    {12, 13, 16, 21, 25, 43}\n",
    "\n",
    "\n",
    "\n",
    "`remove()`\n",
    "\n",
    "Like the discard() method, remove() deletes an item from the set.\n",
    "* deleting an item that doesn’t exist in the set, remove() gives an error\n"
   ]
  },
  {
   "cell_type": "code",
   "execution_count": null,
   "id": "f6cc6c56",
   "metadata": {
    "lines_to_next_cell": 2
   },
   "outputs": [],
   "source": [
    "num.remove(5)"
   ]
  },
  {
   "cell_type": "code",
   "execution_count": null,
   "id": "7e9ba725",
   "metadata": {
    "lines_to_next_cell": 0
   },
   "outputs": [],
   "source": [
    "num"
   ]
  },
  {
   "cell_type": "markdown",
   "id": "984c545d",
   "metadata": {},
   "source": [
    "\n",
    "\n",
    "\n",
    "\n",
    "    {1, 2, 4, 6}\n",
    "\n",
    "\n",
    "\n",
    "`pop()`\n",
    "* here, it does not take an argument. Because a set doesn’t support indexing\n",
    "* it pops out an arbitrary item. \n",
    "* we will not be able to determine which element of the set will be removed using the `pop()` method. In case of list, the last element of the list gets popped when the pop() method is used. \n"
   ]
  },
  {
   "cell_type": "code",
   "execution_count": null,
   "id": "bee94323",
   "metadata": {
    "lines_to_next_cell": 2
   },
   "outputs": [],
   "source": [
    "num = {13,12,21,43,16,25}"
   ]
  },
  {
   "cell_type": "code",
   "execution_count": null,
   "id": "35f7057f",
   "metadata": {
    "lines_to_next_cell": 2
   },
   "outputs": [],
   "source": [
    "num.pop()"
   ]
  },
  {
   "cell_type": "markdown",
   "id": "28afc446",
   "metadata": {},
   "source": [
    "    ---------------------------------------------------------------------------\n",
    "\n",
    "    KeyError                                  Traceback (most recent call last)\n",
    "\n",
    "    <ipython-input-21-03a12495f7f5> in <module>()\n",
    "    ----> 1 num.pop()\n",
    "    \n",
    "\n",
    "    KeyError: 'pop from an empty set'\n",
    "\n",
    "\n",
    "We can also remove all items from a set using `clear()`.\n",
    "\n",
    "`clear()`\n",
    "* It empties the set in Python.\n"
   ]
  },
  {
   "cell_type": "code",
   "execution_count": null,
   "id": "2ac7e51e",
   "metadata": {
    "lines_to_next_cell": 2
   },
   "outputs": [],
   "source": [
    "num = {13,12,21,43,16,25}"
   ]
  },
  {
   "cell_type": "code",
   "execution_count": null,
   "id": "b9c2a4eb",
   "metadata": {
    "lines_to_next_cell": 2
   },
   "outputs": [],
   "source": [
    "num.clear()"
   ]
  },
  {
   "cell_type": "code",
   "execution_count": null,
   "id": "47675e72",
   "metadata": {
    "lines_to_next_cell": 0
   },
   "outputs": [],
   "source": [
    "num"
   ]
  },
  {
   "cell_type": "markdown",
   "id": "13d6e448",
   "metadata": {},
   "source": [
    "\n",
    "\n",
    "\n",
    "\n",
    "    set()\n",
    "\n",
    "\n",
    "\n",
    "**frozensets**  \n",
    "(creating immutable sets)  \n"
   ]
  },
  {
   "cell_type": "code",
   "execution_count": null,
   "id": "bfaebd9f",
   "metadata": {},
   "outputs": [],
   "source": [
    "S = frozenset([1,2,3])\n",
    "print(S)"
   ]
  },
  {
   "cell_type": "markdown",
   "id": "bdb74c81",
   "metadata": {},
   "source": [
    "    frozenset({1, 2, 3})"
   ]
  },
  {
   "cell_type": "markdown",
   "id": "66e23e45",
   "metadata": {},
   "source": [
    "https://realpython.com/python-sets/  \n",
    "https://www.programiz.com/python-programming/set  \n",
    "https://stackabuse.com/sets-in-python/  \n",
    "\n",
    "## Data types Tree\n",
    "\n",
    "![Imgur](https://i.imgur.com/VXwzhyT.jpg)\n",
    "\n",
    "## Queues(FIFO) and Stacks(LIFO)\n"
   ]
  },
  {
   "cell_type": "code",
   "execution_count": null,
   "id": "e81ac1fa",
   "metadata": {
    "lines_to_next_cell": 2
   },
   "outputs": [],
   "source": [
    "\"\"\" A Queue of Groceries to Put Away \"\"\"\n",
    "# queue is a not built-in datatype\n",
    "# create a new queue object\n",
    "import queue \n",
    "q = queue.Queue() # create a new object by calling new Queue() custroctor\n",
    "print(q.empty())\n",
    "\n",
    "# put bags into the queue\n",
    "q.put('bag1')\n",
    "print(q.empty())\n",
    "q.put('bag2')\n",
    "q.put('bag3')\n",
    "\n",
    "# get bags from the queue in FIFO order\n",
    "print(q.get())\n",
    "print(q.get())\n",
    "print(q.get())\n",
    "# q.get() # causes an error: blocking method, the program will wait until method completes before continuiing execution\n",
    "# (restart the shell) \n",
    "\n",
    "# create a new queue to hold two items\n",
    "q = queue.Queue(2)\n",
    "print(q.empty())\n",
    "\n",
    "# put two bags into the two-item queue\n",
    "q.put('bag1')\n",
    "print(q.full())\n",
    "q.put('bag2')\n",
    "print(q.full())\n",
    "\n",
    "# try to put an extra bag into the queue\n",
    "q.put_nowait('bag3') # causes an error\n"
   ]
  },
  {
   "cell_type": "code",
   "execution_count": null,
   "id": "51952445",
   "metadata": {},
   "outputs": [],
   "source": [
    "\"\"\" A Stack of Bills to Pay \"\"\"\n",
    "# python doesn't has built-n stack module, we can use list instead\n",
    "# create a list to use as the stack\n",
    "stack = list()\n",
    "\n",
    "# add some bills to the stack\n",
    "stack.append('bill1')\n",
    "stack.append('bill2')\n",
    "\n",
    "# remove the top bill to pay it\n",
    "print(stack.pop())\n",
    "\n",
    "# add two more bills to the stack\n",
    "stack.append('bill3')\n",
    "stack.append('bill4')\n",
    "\n",
    "# remove bills from top to bottom\n",
    "print(stack.pop())\n",
    "print(stack.pop())\n",
    "print(stack.pop())\n",
    "stack.pop() # causes Indexerror exception\n"
   ]
  },
  {
   "cell_type": "markdown",
   "id": "570c0ab1",
   "metadata": {},
   "source": [
    "## Type conversion\n",
    "\n",
    "### Implicit type conversion\n"
   ]
  },
  {
   "cell_type": "code",
   "execution_count": null,
   "id": "d893340f",
   "metadata": {},
   "outputs": [],
   "source": [
    "int1 = 4\n",
    "float1 = int1 + 2.1 # 4 converted to float\n",
    "# str1 = \"My int:\" + int1 # Error: no implicit type conversion from int to string\n",
    "int2 = 4 + True # 5: bool is implicitly converted to int"
   ]
  },
  {
   "cell_type": "markdown",
   "id": "d2253ee2",
   "metadata": {},
   "source": [
    "### Explicit type conversion\n"
   ]
  },
  {
   "cell_type": "code",
   "execution_count": null,
   "id": "6456c6f8",
   "metadata": {},
   "outputs": [],
   "source": [
    "str1 = \"My int:\" + str(int1)\n",
    "v1 = int(2.7) # 2\n",
    "v2 = int(-3.9) # -3\n",
    "v3 = int(\"2\") # 2\n",
    "v4 = int(\"11\", 16) # 17, base 16\n",
    "v5 = long(2) # this supports only in python 2 vesion\n",
    "v6 = float(2) # 2.0\n",
    "v7 = float(\"2.7\") # 2.7\n",
    "v8 = float(\"2.7E-2\") # 0.027\n",
    "v9 = float(False) # 0.0\n",
    "vA = float(True) # 1.0\n",
    "vB = str(4.5) # \"4.5\"\n",
    "vC = str([1, 3, 5]) # \"[1, 3, 5]\"\n",
    "vD = bool(0) # False; bool fn since Python 2.2.1\n",
    "vE = bool(3) # True\n",
    "vF = bool([]) # False - empty list\n",
    "vG = bool([False]) # True - non-empty list\n",
    "vH = bool({}) # False - empty dict; same for empty tuple\n",
    "vI = bool(\"\") # False - empty string\n",
    "vJ = bool(\" \") # True - non-empty string\n",
    "vK = bool(None) # False\n",
    "vL = bool(len) # True\n",
    "vM = set([1, 2])\n",
    "vN = list(vM)\n",
    "vO = list({1: \"a\", 2: \"b\"}) # dict -> list of keys\n",
    "vP = tuple(vN)\n",
    "vQ = list(\"abc\") # ['a', 'b', 'c']\n",
    "print v1, v2, v3, type(v1), type(v2), type(v3)"
   ]
  },
  {
   "cell_type": "markdown",
   "id": "bc01607f",
   "metadata": {},
   "source": [
    "<span style=\"color:red; font-family:Comic Sans MS\">References</span>  \n",
    "<a href=\"https://www.programiz.com\" target=\"_blank\">https://www.programiz.com</a>  \n",
    "https://realpython.com/python-data-types/#strings  \n",
    "\n",
    "<span style=\"color:red; font-family:brandon\">Further  Resources</span>  \n",
    "<a href=\"https://realpython.com/python-variables/\" target=\"_blank\">https://realpython.com/python-variables/</a>  \n",
    "<a href=\"https://realpython.com/python-data-types/\" target=\"_blank\">https://realpython.com/python-data-types/</a>  \n",
    "<a href=\"https://realpython.com/python-operators-expressions/\" target=\"_blank\">https://realpython.com/python-operators-expressions/</a>  \n",
    "<a href=\"https://realpython.com/python-strings/\" target=\"_blank\">https://realpython.com/python-strings/</a>  \n",
    "  \n",
    "<a href=\"https://www.datacamp.com/community/tutorials/data-structures-python\" target=\"_blank\">https://www.datacamp.com/community/tutorials/data-structures-python</a>  "
   ]
  }
 ],
 "metadata": {
  "hide_input": false,
  "jupytext": {
   "cell_metadata_filter": "-all",
   "formats": "md,ipynb",
   "main_language": "python",
   "notebook_metadata_filter": "-all"
  },
  "kernelspec": {
   "display_name": "R",
   "language": "R",
   "name": "ir"
  },
  "language_info": {
   "codemirror_mode": "r",
   "file_extension": ".r",
   "mimetype": "text/x-r-source",
   "name": "R",
   "pygments_lexer": "r",
   "version": "3.6.1"
  },
  "latex_envs": {
   "LaTeX_envs_menu_present": true,
   "autoclose": false,
   "autocomplete": true,
   "bibliofile": "biblio.bib",
   "cite_by": "apalike",
   "current_citInitial": 1,
   "eqLabelWithNumbers": true,
   "eqNumInitial": 1,
   "hotkeys": {
    "equation": "Ctrl-E",
    "itemize": "Ctrl-I"
   },
   "labels_anchors": false,
   "latex_user_defs": false,
   "report_style_numbering": false,
   "user_envs_cfg": false
  },
  "toc": {
   "base_numbering": 1,
   "nav_menu": {},
   "number_sections": true,
   "sideBar": true,
   "skip_h1_title": false,
   "title_cell": "Table of Contents",
   "title_sidebar": "Contents",
   "toc_cell": false,
   "toc_position": {},
   "toc_section_display": true,
   "toc_window_display": false
  },
  "varInspector": {
   "cols": {
    "lenName": 16,
    "lenType": 16,
    "lenVar": 40
   },
   "kernels_config": {
    "python": {
     "delete_cmd_postfix": "",
     "delete_cmd_prefix": "del ",
     "library": "var_list.py",
     "varRefreshCmd": "print(var_dic_list())"
    },
    "r": {
     "delete_cmd_postfix": ") ",
     "delete_cmd_prefix": "rm(",
     "library": "var_list.r",
     "varRefreshCmd": "cat(var_dic_list()) "
    }
   },
   "types_to_exclude": [
    "module",
    "function",
    "builtin_function_or_method",
    "instance",
    "_Feature"
   ],
   "window_display": false
  }
 },
 "nbformat": 4,
 "nbformat_minor": 5
}
